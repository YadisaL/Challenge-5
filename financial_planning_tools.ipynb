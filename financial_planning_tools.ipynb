{
 "cells": [
  {
   "attachments": {},
   "cell_type": "markdown",
   "metadata": {},
   "source": [
    "# Financial Planning with APIs and Simulations\n",
    "\n",
    "In this Challenge, you’ll create two financial analysis tools by using a single Jupyter notebook:\n",
    "\n",
    "Part 1: A financial planner for emergencies. The members will be able to use this tool to visualize their current savings. The members can then determine if they have enough reserves for an emergency fund.\n",
    "\n",
    "Part 2: A financial planner for retirement. This tool will forecast the performance of their retirement portfolio in 30 years. To do this, the tool will make an Alpaca API call via the Alpaca SDK to get historical price data for use in Monte Carlo simulations.\n",
    "\n",
    "You’ll use the information from the Monte Carlo simulation to answer questions about the portfolio in your Jupyter notebook.\n",
    "\n"
   ]
  },
  {
   "cell_type": "code",
   "execution_count": 4,
   "metadata": {},
   "outputs": [],
   "source": [
    "# Import the required libraries and dependencies\n",
    "import os\n",
    "import requests\n",
    "import json\n",
    "import pandas as pd\n",
    "from dotenv import load_dotenv\n",
    "import alpaca_trade_api as tradeapi\n",
    "from MCForecastTools import MCSimulation\n",
    "\n",
    "%matplotlib inline"
   ]
  },
  {
   "cell_type": "code",
   "execution_count": 5,
   "metadata": {},
   "outputs": [
    {
     "data": {
      "text/plain": [
       "True"
      ]
     },
     "execution_count": 5,
     "metadata": {},
     "output_type": "execute_result"
    }
   ],
   "source": [
    "# Load the environment variables from the .env file\n",
    "#by calling the load_dotenv function\n",
    "load_dotenv()\n"
   ]
  },
  {
   "cell_type": "code",
   "execution_count": 6,
   "metadata": {},
   "outputs": [
    {
     "data": {
      "text/plain": [
       "str"
      ]
     },
     "metadata": {},
     "output_type": "display_data"
    },
    {
     "data": {
      "text/plain": [
       "str"
      ]
     },
     "metadata": {},
     "output_type": "display_data"
    }
   ],
   "source": [
    "alpaca_api_key = os.getenv(\"ALPACA_API_KEY\")\n",
    "alpaca_secret_key = os.getenv(\"ALPACA_SECRET_KEY\")\n",
    "\n",
    "display(type(alpaca_api_key))\n",
    "display(type(alpaca_secret_key))"
   ]
  },
  {
   "attachments": {},
   "cell_type": "markdown",
   "metadata": {},
   "source": [
    "## Part 1: Create a Financial Planner for Emergencies"
   ]
  },
  {
   "attachments": {},
   "cell_type": "markdown",
   "metadata": {},
   "source": [
    "### Evaluate the Cryptocurrency Wallet by Using the Requests Library\n",
    "\n",
    "In this section, you’ll determine the current value of a member’s cryptocurrency wallet. You’ll collect the current prices for the Bitcoin and Ethereum cryptocurrencies by using the Python Requests library. For the prototype, you’ll assume that the member holds the 1.2 Bitcoins (BTC) and 5.3 Ethereum coins (ETH). To do all this, complete the following steps:\n",
    "\n",
    "1. Create a variable named `monthly_income`, and set its value to `12000`.\n",
    "\n",
    "2. Use the Requests library to get the current price (in US dollars) of Bitcoin (BTC) and Ethereum (ETH) by using the API endpoints that the starter code supplies.\n",
    "\n",
    "3. Navigate the JSON response object to access the current price of each coin, and store each in a variable.\n",
    "\n",
    "    > **Hint** Note the specific identifier for each cryptocurrency in the API JSON response. The Bitcoin identifier is `1`, and the Ethereum identifier is `1027`.\n",
    "\n",
    "4. Calculate the value, in US dollars, of the current amount of each cryptocurrency and of the entire cryptocurrency wallet.\n",
    "\n"
   ]
  },
  {
   "cell_type": "code",
   "execution_count": 7,
   "metadata": {},
   "outputs": [],
   "source": [
    "# The current number of coins for each cryptocurrency asset held in the portfolio.\n",
    "btc_coins = 1.2\n",
    "eth_coins = 5.3"
   ]
  },
  {
   "attachments": {},
   "cell_type": "markdown",
   "metadata": {},
   "source": [
    "#### Step 1: Create a variable named `monthly_income`, and set its value to `12000`."
   ]
  },
  {
   "cell_type": "code",
   "execution_count": 8,
   "metadata": {},
   "outputs": [],
   "source": [
    "# The monthly amount for the member's household income\n",
    "monthly_income = 12000\n"
   ]
  },
  {
   "attachments": {},
   "cell_type": "markdown",
   "metadata": {},
   "source": [
    "#### Review the endpoint URLs for the API calls to Free Crypto API in order to get the current pricing information for both BTC and ETH."
   ]
  },
  {
   "cell_type": "code",
   "execution_count": 9,
   "metadata": {},
   "outputs": [],
   "source": [
    "# The Free Crypto API Call endpoint URLs for the held cryptocurrency assets\n",
    "btc_url = \"https://api.alternative.me/v2/ticker/Bitcoin/?convert=USD\"\n",
    "eth_url = \"https://api.alternative.me/v2/ticker/Ethereum/?convert=USD\""
   ]
  },
  {
   "attachments": {},
   "cell_type": "markdown",
   "metadata": {},
   "source": [
    "#### Step 2. Use the Requests library to get the current price (in US dollars) of Bitcoin (BTC) and Ethereum (ETH) by using the API endpoints that the starter code supplied."
   ]
  },
  {
   "cell_type": "code",
   "execution_count": 10,
   "metadata": {},
   "outputs": [
    {
     "name": "stdout",
     "output_type": "stream",
     "text": [
      "{\n",
      "    \"data\": {\n",
      "        \"1\": {\n",
      "            \"circulating_supply\": 19379025,\n",
      "            \"id\": 1,\n",
      "            \"last_updated\": 1684619996,\n",
      "            \"max_supply\": 21000000,\n",
      "            \"name\": \"Bitcoin\",\n",
      "            \"quotes\": {\n",
      "                \"USD\": {\n",
      "                    \"market_cap\": 523784345057,\n",
      "                    \"percent_change_1h\": 0.0430101583123967,\n",
      "                    \"percent_change_24h\": 0.55799418555498,\n",
      "                    \"percent_change_7d\": 0.606313540966466,\n",
      "                    \"percentage_change_1h\": 0.0430101583123967,\n",
      "                    \"percentage_change_24h\": 0.55799418555498,\n",
      "                    \"percentage_change_7d\": 0.606313540966466,\n",
      "                    \"price\": 27042.0,\n",
      "                    \"volume_24h\": 4133999954\n",
      "                }\n",
      "            },\n",
      "            \"rank\": 1,\n",
      "            \"symbol\": \"BTC\",\n",
      "            \"total_supply\": 19379025,\n",
      "            \"website_slug\": \"bitcoin\"\n",
      "        }\n",
      "    },\n",
      "    \"metadata\": {\n",
      "        \"error\": null,\n",
      "        \"num_cryptocurrencies\": 3119,\n",
      "        \"timestamp\": 1684619996\n",
      "    }\n",
      "}\n"
     ]
    }
   ],
   "source": [
    "# Using the Python requests library, make an API call to access the current price of BTC\n",
    "btc_response = requests.get(btc_url).json()\n",
    "\n",
    "# Use the json.dumps function to review the response data from the API call\n",
    "# Use the indent and sort_keys parameters to make the response object readable\n",
    "print(json.dumps(btc_response, indent=4, sort_keys=True))\n"
   ]
  },
  {
   "cell_type": "code",
   "execution_count": 11,
   "metadata": {},
   "outputs": [
    {
     "name": "stdout",
     "output_type": "stream",
     "text": [
      "{\n",
      "    \"data\": {\n",
      "        \"1027\": {\n",
      "            \"circulating_supply\": 120272752,\n",
      "            \"id\": 1027,\n",
      "            \"last_updated\": 1684619999,\n",
      "            \"max_supply\": 120272752,\n",
      "            \"name\": \"Ethereum\",\n",
      "            \"quotes\": {\n",
      "                \"USD\": {\n",
      "                    \"market_cap\": 218569009930,\n",
      "                    \"percent_change_1h\": 0.0452657542595088,\n",
      "                    \"percent_change_24h\": 0.213842682441517,\n",
      "                    \"percent_change_7d\": 1.05510022238583,\n",
      "                    \"percentage_change_1h\": 0.0452657542595088,\n",
      "                    \"percentage_change_24h\": 0.213842682441517,\n",
      "                    \"percentage_change_7d\": 1.05510022238583,\n",
      "                    \"price\": 1817.89,\n",
      "                    \"volume_24h\": 3186014448\n",
      "                }\n",
      "            },\n",
      "            \"rank\": 2,\n",
      "            \"symbol\": \"ETH\",\n",
      "            \"total_supply\": 120272752,\n",
      "            \"website_slug\": \"ethereum\"\n",
      "        }\n",
      "    },\n",
      "    \"metadata\": {\n",
      "        \"error\": null,\n",
      "        \"num_cryptocurrencies\": 3119,\n",
      "        \"timestamp\": 1684619999\n",
      "    }\n",
      "}\n"
     ]
    }
   ],
   "source": [
    "# Using the Python requests library, make an API call to access the current price ETH\n",
    "eth_response = requests.get(eth_url).json()\n",
    "\n",
    "# Use the json.dumps function to review the response data from the API call\n",
    "# Use the indent and sort_keys parameters to make the response object readable\n",
    "print(json.dumps(eth_response, indent=4, sort_keys=True))\n"
   ]
  },
  {
   "attachments": {},
   "cell_type": "markdown",
   "metadata": {},
   "source": [
    "#### Step 3: Navigate the JSON response object to access the current price of each coin, and store each in a variable."
   ]
  },
  {
   "cell_type": "code",
   "execution_count": 12,
   "metadata": {},
   "outputs": [
    {
     "name": "stdout",
     "output_type": "stream",
     "text": [
      "The price for Bitcoin is $ 27042.0 \n"
     ]
    }
   ],
   "source": [
    "# Navigate the BTC response object to access the current price of BTC\n",
    "btc_price = btc_response['data']['1']['quotes']['USD']['price']\n",
    "\n",
    "# Print the current price of BTC\n",
    "print(f\"The price for Bitcoin is $ {btc_price} \")\n"
   ]
  },
  {
   "cell_type": "code",
   "execution_count": 13,
   "metadata": {},
   "outputs": [
    {
     "name": "stdout",
     "output_type": "stream",
     "text": [
      "The price for Ethereum is $ 1817.89 \n"
     ]
    }
   ],
   "source": [
    "# Navigate the BTC response object to access the current price of ETH\n",
    "eth_price = eth_response['data']['1027']['quotes']['USD']['price']\n",
    "\n",
    "# Print the current price of ETH\n",
    "print(f\"The price for Ethereum is $ {eth_price} \")\n"
   ]
  },
  {
   "attachments": {},
   "cell_type": "markdown",
   "metadata": {},
   "source": [
    "### Step 4: Calculate the value, in US dollars, of the current amount of each cryptocurrency and of the entire cryptocurrency wallet."
   ]
  },
  {
   "cell_type": "code",
   "execution_count": 14,
   "metadata": {},
   "outputs": [
    {
     "name": "stdout",
     "output_type": "stream",
     "text": [
      "The current value of your holding in Bitcoin is $ 40563.0 \n"
     ]
    }
   ],
   "source": [
    "# Compute the current value of the BTC holding \n",
    "btc_value = btc_response['data']['1']['quotes']['USD']['price']* 1.5\n",
    "\n",
    "# Print current value of your holding in BTC\n",
    "print(f\"The current value of your holding in Bitcoin is $ {btc_value} \")\n"
   ]
  },
  {
   "cell_type": "code",
   "execution_count": 15,
   "metadata": {},
   "outputs": [
    {
     "name": "stdout",
     "output_type": "stream",
     "text": [
      "The current value of your holding in Ethereum is $ 9634.817000000001 \n"
     ]
    }
   ],
   "source": [
    "# Compute the current value of the ETH holding \n",
    "eth_value = eth_response['data']['1027']['quotes']['USD']['price']* 5.3\n",
    "\n",
    "# Print current value of your holding in ETH\n",
    "print(f\"The current value of your holding in Ethereum is $ {eth_value} \")\n"
   ]
  },
  {
   "cell_type": "code",
   "execution_count": 16,
   "metadata": {},
   "outputs": [
    {
     "name": "stdout",
     "output_type": "stream",
     "text": [
      "Current cryptocurrency wallet balance is $ 50197.817 \n"
     ]
    }
   ],
   "source": [
    "# Compute the total value of the cryptocurrency wallet\n",
    "# Add the value of the BTC holding to the value of the ETH holding\n",
    "total_crypto_wallet = btc_value + eth_value\n",
    "\n",
    "# Print current cryptocurrency wallet balance\n",
    "print(f\"Current cryptocurrency wallet balance is $ {total_crypto_wallet} \")\n"
   ]
  },
  {
   "attachments": {},
   "cell_type": "markdown",
   "metadata": {},
   "source": [
    "### Evaluate the Stock and Bond Holdings by Using the Alpaca SDK\n",
    "\n",
    "In this section, you’ll determine the current value of a member’s stock and bond holdings. You’ll make an API call to Alpaca via the Alpaca SDK to get the current closing prices of the SPDR S&P 500 ETF Trust (ticker: SPY) and of the iShares Core US Aggregate Bond ETF (ticker: AGG). For the prototype, assume that the member holds 110 shares of SPY, which represents the stock portion of their portfolio, and 200 shares of AGG, which represents the bond portion. To do all this, complete the following steps:\n",
    "\n",
    "1. In the `Starter_Code` folder, create an environment file (`.env`) to store the values of your Alpaca API key and Alpaca secret key.\n",
    "\n",
    "2. Set the variables for the Alpaca API and secret keys. Using the Alpaca SDK, create the Alpaca `tradeapi.REST` object. In this object, include the parameters for the Alpaca API key, the secret key, and the version number.\n",
    "\n",
    "3. Set the following parameters for the Alpaca API call:\n",
    "\n",
    "    - `tickers`: Use the tickers for the member’s stock and bond holdings.\n",
    "\n",
    "    - `timeframe`: Use a time frame of one day.\n",
    "\n",
    "    - `start_date` and `end_date`: Use the same date for these parameters, and format them with the date of the previous weekday (or `2020-08-07`). This is because you want the one closing price for the most-recent trading day.\n",
    "\n",
    "4. Get the current closing prices for `SPY` and `AGG` by using the Alpaca `get_bars` function. Format the response as a Pandas DataFrame by including the `df` property at the end of the `get_bars` function.\n",
    "\n",
    "5. Navigating the Alpaca response DataFrame, select the `SPY` and `AGG` closing prices, and store them as variables.\n",
    "\n",
    "6. Calculate the value, in US dollars, of the current amount of shares in each of the stock and bond portions of the portfolio, and print the results.\n"
   ]
  },
  {
   "attachments": {},
   "cell_type": "markdown",
   "metadata": {},
   "source": [
    "#### Review the total number of shares held in both (SPY) and (AGG)."
   ]
  },
  {
   "cell_type": "code",
   "execution_count": 17,
   "metadata": {},
   "outputs": [],
   "source": [
    "# Current amount of shares held in both the stock (SPY) and bond (AGG) portion of the portfolio.\n",
    "spy_shares = 110\n",
    "agg_shares = 200\n"
   ]
  },
  {
   "attachments": {},
   "cell_type": "markdown",
   "metadata": {},
   "source": [
    "#### Step 1: In the `Starter_Code` folder, create an environment file (`.env`) to store the values of your Alpaca API key and Alpaca secret key."
   ]
  },
  {
   "attachments": {},
   "cell_type": "markdown",
   "metadata": {},
   "source": [
    "#### Step 2: Set the variables for the Alpaca API and secret keys. Using the Alpaca SDK, create the Alpaca `tradeapi.REST` object. In this object, include the parameters for the Alpaca API key, the secret key, and the version number."
   ]
  },
  {
   "cell_type": "code",
   "execution_count": 18,
   "metadata": {},
   "outputs": [],
   "source": [
    "# Set the variables for the Alpaca API and secret keys\n",
    "alpaca_api_key = os.getenv(\"ALPACA_API_KEY\")\n",
    "alpaca_secret_key = os.getenv(\"ALPACA_SECRET_KEY\")\n",
    "\n",
    "# Create the Alpaca tradeapi.REST object\n",
    "alpaca =tradeapi.REST(alpaca_api_key, alpaca_secret_key, api_version=\"v2\")\n"
   ]
  },
  {
   "attachments": {},
   "cell_type": "markdown",
   "metadata": {},
   "source": [
    "#### Step 3: Set the following parameters for the Alpaca API call:\n",
    "\n",
    "- `tickers`: Use the tickers for the member’s stock and bond holdings.\n",
    "\n",
    "- `timeframe`: Use a time frame of one day.\n",
    "\n",
    "- `start_date` and `end_date`: Use the same date for these parameters, and format them with the date of the previous weekday (or `2020-08-07`). This is because you want the one closing price for the most-recent trading day.\n"
   ]
  },
  {
   "cell_type": "code",
   "execution_count": 19,
   "metadata": {},
   "outputs": [],
   "source": [
    "# Set the tickers for both the bond and stock portion of the portfolio\n",
    "tickers = [\"SPY\", \"AGG\"]\n",
    "\n",
    "# Set timeframe to 1Day\n",
    "timeframe = \"1D\"\n",
    "\n",
    "# Format current date as ISO format\n",
    "# Set both the start and end date at the date of your prior weekday \n",
    "# This will give you the closing price of the previous trading day\n",
    "# Alternatively you can use a start and end date of 2020-08-07\n",
    "start_date = pd.Timestamp(\"2023-05-19\", tz=\"America/New_York\").isoformat()\n",
    "end_date = pd.Timestamp(\"2023-05-19\", tz=\"America/New_York\").isoformat()\n"
   ]
  },
  {
   "attachments": {},
   "cell_type": "markdown",
   "metadata": {},
   "source": [
    "#### Step 4: Get the current closing prices for `SPY` and `AGG` by using the Alpaca `get_bars` function. Format the response as a Pandas DataFrame by including the `df` property at the end of the `get_bars` function."
   ]
  },
  {
   "cell_type": "code",
   "execution_count": 20,
   "metadata": {},
   "outputs": [
    {
     "data": {
      "text/html": [
       "<div>\n",
       "<style scoped>\n",
       "    .dataframe tbody tr th:only-of-type {\n",
       "        vertical-align: middle;\n",
       "    }\n",
       "\n",
       "    .dataframe tbody tr th {\n",
       "        vertical-align: top;\n",
       "    }\n",
       "\n",
       "    .dataframe thead tr th {\n",
       "        text-align: left;\n",
       "    }\n",
       "\n",
       "    .dataframe thead tr:last-of-type th {\n",
       "        text-align: right;\n",
       "    }\n",
       "</style>\n",
       "<table border=\"1\" class=\"dataframe\">\n",
       "  <thead>\n",
       "    <tr>\n",
       "      <th></th>\n",
       "      <th colspan=\"7\" halign=\"left\">SPY</th>\n",
       "      <th colspan=\"7\" halign=\"left\">AGG</th>\n",
       "    </tr>\n",
       "    <tr>\n",
       "      <th></th>\n",
       "      <th>open</th>\n",
       "      <th>high</th>\n",
       "      <th>low</th>\n",
       "      <th>close</th>\n",
       "      <th>volume</th>\n",
       "      <th>trade_count</th>\n",
       "      <th>vwap</th>\n",
       "      <th>open</th>\n",
       "      <th>high</th>\n",
       "      <th>low</th>\n",
       "      <th>close</th>\n",
       "      <th>volume</th>\n",
       "      <th>trade_count</th>\n",
       "      <th>vwap</th>\n",
       "    </tr>\n",
       "    <tr>\n",
       "      <th>timestamp</th>\n",
       "      <th></th>\n",
       "      <th></th>\n",
       "      <th></th>\n",
       "      <th></th>\n",
       "      <th></th>\n",
       "      <th></th>\n",
       "      <th></th>\n",
       "      <th></th>\n",
       "      <th></th>\n",
       "      <th></th>\n",
       "      <th></th>\n",
       "      <th></th>\n",
       "      <th></th>\n",
       "      <th></th>\n",
       "    </tr>\n",
       "  </thead>\n",
       "  <tbody>\n",
       "    <tr>\n",
       "      <th>2023-05-19 04:00:00+00:00</th>\n",
       "      <td>420.17</td>\n",
       "      <td>420.72</td>\n",
       "      <td>417.35</td>\n",
       "      <td>418.62</td>\n",
       "      <td>100652205</td>\n",
       "      <td>621554</td>\n",
       "      <td>419.02913</td>\n",
       "      <td>98.13</td>\n",
       "      <td>98.44</td>\n",
       "      <td>98.0</td>\n",
       "      <td>98.08</td>\n",
       "      <td>10010190</td>\n",
       "      <td>28063</td>\n",
       "      <td>98.178642</td>\n",
       "    </tr>\n",
       "  </tbody>\n",
       "</table>\n",
       "</div>"
      ],
      "text/plain": [
       "                              SPY                                     \\\n",
       "                             open    high     low   close     volume   \n",
       "timestamp                                                              \n",
       "2023-05-19 04:00:00+00:00  420.17  420.72  417.35  418.62  100652205   \n",
       "\n",
       "                                                    AGG                      \\\n",
       "                          trade_count       vwap   open   high   low  close   \n",
       "timestamp                                                                     \n",
       "2023-05-19 04:00:00+00:00      621554  419.02913  98.13  98.44  98.0  98.08   \n",
       "\n",
       "                                                            \n",
       "                             volume trade_count       vwap  \n",
       "timestamp                                                   \n",
       "2023-05-19 04:00:00+00:00  10010190       28063  98.178642  "
      ]
     },
     "execution_count": 20,
     "metadata": {},
     "output_type": "execute_result"
    }
   ],
   "source": [
    "# Use the Alpaca get_bars function to get current closing prices the portfolio\n",
    "# Be sure to set the `df` property after the function to format the response object as a DataFrame\n",
    "shares_data = {\"shares\": [110, 200]}\n",
    "portfolio_df = pd.DataFrame(shares_data, index=tickers)\n",
    "\n",
    "prices_df = alpaca.get_bars(tickers, timeframe, start = start_date, end = end_date).df\n",
    "\n",
    "# Reorganize the DataFrame\n",
    "# Separate ticker data\n",
    "SPY = prices_df[prices_df['symbol']=='SPY'].drop('symbol', axis=1)\n",
    "AGG = prices_df[prices_df['symbol']=='AGG'].drop('symbol', axis=1)      \n",
    "\n",
    "# Concatenate the ticker DataFrames\n",
    "prices_df = pd.concat([SPY, AGG], axis=1, keys=[\"SPY\", \"AGG\"])\n",
    "\n",
    "# Review the first 5 rows of the Alpaca DataFrame\n",
    "prices_df.head()\n"
   ]
  },
  {
   "attachments": {},
   "cell_type": "markdown",
   "metadata": {},
   "source": [
    "#### Step 5: Navigating the Alpaca response DataFrame, select the `SPY` and `AGG` closing prices, and store them as variables."
   ]
  },
  {
   "cell_type": "code",
   "execution_count": 21,
   "metadata": {},
   "outputs": [
    {
     "name": "stdout",
     "output_type": "stream",
     "text": [
      "98.08\n"
     ]
    }
   ],
   "source": [
    "# Access the closing price for AGG from the Alpaca DataFrame\n",
    "# Converting the value to a floating point number\n",
    "agg_close_price = float(prices_df[\"AGG\"][\"close\"])\n",
    "\n",
    "# Print the AGG closing price\n",
    "print(agg_close_price)\n"
   ]
  },
  {
   "cell_type": "code",
   "execution_count": 23,
   "metadata": {},
   "outputs": [
    {
     "name": "stdout",
     "output_type": "stream",
     "text": [
      "418.62\n"
     ]
    }
   ],
   "source": [
    "# Access the closing price for SPY from the Alpaca DataFrame\n",
    "# Converting the value to a floating point number\n",
    "spy_close_price = float(prices_df[\"SPY\"][\"close\"])\n",
    "\n",
    "# Print the SPY closing price\n",
    "print(spy_close_price)\n",
    "\n"
   ]
  },
  {
   "attachments": {},
   "cell_type": "markdown",
   "metadata": {},
   "source": [
    "#### Step 6: Calculate the value, in US dollars, of the current amount of shares in each of the stock and bond portions of the portfolio, and print the results."
   ]
  },
  {
   "cell_type": "code",
   "execution_count": 24,
   "metadata": {},
   "outputs": [
    {
     "name": "stdout",
     "output_type": "stream",
     "text": [
      "The current value of the 200 AGG shares is $19616.00\n"
     ]
    }
   ],
   "source": [
    "# Calculate the current value of the bond portion of the portfolio\n",
    "agg_value = agg_close_price * portfolio_df.loc[\"AGG\"][\"shares\"]\n",
    "\n",
    "# Print the current value of the bond portfolio\n",
    "print(f\"The current value of the {portfolio_df.loc['AGG']['shares']} AGG shares is ${agg_value:0.2f}\")\n"
   ]
  },
  {
   "cell_type": "code",
   "execution_count": 25,
   "metadata": {},
   "outputs": [
    {
     "name": "stdout",
     "output_type": "stream",
     "text": [
      "The current value of the 110 SPY shares is $46048.20\n"
     ]
    }
   ],
   "source": [
    "# Calculate the current value of the stock portion of the portfolio\n",
    "spy_value = spy_close_price * portfolio_df.loc[\"SPY\"][\"shares\"]\n",
    "\n",
    "# Print the current value of the stock portfolio\n",
    "print(f\"The current value of the {portfolio_df.loc['SPY']['shares']} SPY shares is ${spy_value:0.2f}\")\n",
    "\n"
   ]
  },
  {
   "cell_type": "code",
   "execution_count": 27,
   "metadata": {},
   "outputs": [
    {
     "name": "stdout",
     "output_type": "stream",
     "text": [
      "The current value of the stocks and bonds is $65664.20\n"
     ]
    }
   ],
   "source": [
    "# Calculate the total value of the stock and bond portion of the portfolio\n",
    "total_stocks_bonds = agg_value + spy_value\n",
    "\n",
    "# Print the current balance of the stock and bond portion of the portfolio\n",
    "print(f\"The current value of the stocks and bonds is ${total_stocks_bonds:0.2f}\")\n"
   ]
  },
  {
   "cell_type": "code",
   "execution_count": 28,
   "metadata": {},
   "outputs": [
    {
     "name": "stdout",
     "output_type": "stream",
     "text": [
      "The current value of the entire portfolio is $115862.02\n"
     ]
    }
   ],
   "source": [
    "# Calculate the total value of the member's entire savings portfolio\n",
    "# Add the value of the cryptocurrency walled to the value of the total stocks and bonds\n",
    "total_portfolio = total_crypto_wallet + total_stocks_bonds\n",
    "\n",
    "# Print current cryptocurrency wallet balance\n",
    "print(f\"The current value of the entire portfolio is ${total_portfolio:0.2f}\")\n"
   ]
  },
  {
   "attachments": {},
   "cell_type": "markdown",
   "metadata": {},
   "source": [
    "### Evaluate the Emergency Fund\n",
    "\n",
    "In this section, you’ll use the valuations for the cryptocurrency wallet and for the stock and bond portions of the portfolio to determine if the credit union member has enough savings to build an emergency fund into their financial plan. To do this, complete the following steps:\n",
    "\n",
    "1. Create a Python list named `savings_data` that has two elements. The first element contains the total value of the cryptocurrency wallet. The second element contains the total value of the stock and bond portions of the portfolio.\n",
    "\n",
    "2. Use the `savings_data` list to create a Pandas DataFrame named `savings_df`, and then display this DataFrame. The function to create the DataFrame should take the following three parameters:\n",
    "\n",
    "    - `savings_data`: Use the list that you just created.\n",
    "\n",
    "    - `columns`: Set this parameter equal to a Python list with a single value called `amount`.\n",
    "\n",
    "    - `index`: Set this parameter equal to a Python list with the values of `crypto` and `stock/bond`.\n",
    "\n",
    "3. Use the `savings_df` DataFrame to plot a pie chart that visualizes the composition of the member’s portfolio. The y-axis of the pie chart uses `amount`. Be sure to add a title.\n",
    "\n",
    "4. Using Python, determine if the current portfolio has enough to create an emergency fund as part of the member’s financial plan. Ideally, an emergency fund should equal to three times the member’s monthly income. To do this, implement the following steps:\n",
    "\n",
    "    1. Create a variable named `emergency_fund_value`, and set it equal to three times the value of the member’s `monthly_income` of $12000. (You set this earlier in Part 1).\n",
    "\n",
    "    2. Create a series of three if statements to determine if the member’s total portfolio is large enough to fund the emergency portfolio:\n",
    "\n",
    "        1. If the total portfolio value is greater than the emergency fund value, display a message congratulating the member for having enough money in this fund.\n",
    "\n",
    "        2. Else if the total portfolio value is equal to the emergency fund value, display a message congratulating the member on reaching this important financial goal.\n",
    "\n",
    "        3. Else the total portfolio is less than the emergency fund value, so display a message showing how many dollars away the member is from reaching the goal. (Subtract the total portfolio value from the emergency fund value.)\n"
   ]
  },
  {
   "attachments": {},
   "cell_type": "markdown",
   "metadata": {},
   "source": [
    "#### Step 1: Create a Python list named `savings_data` that has two elements. The first element contains the total value of the cryptocurrency wallet. The second element contains the total value of the stock and bond portions of the portfolio."
   ]
  },
  {
   "cell_type": "code",
   "execution_count": 29,
   "metadata": {},
   "outputs": [
    {
     "data": {
      "text/plain": [
       "[50197.817, 65664.2]"
      ]
     },
     "execution_count": 29,
     "metadata": {},
     "output_type": "execute_result"
    }
   ],
   "source": [
    "# Consolidate financial assets data into a Python list\n",
    "savings_data = [total_crypto_wallet, total_stocks_bonds]\n",
    "\n",
    "# Review the Python list savings_data\n",
    "savings_data\n",
    "    "
   ]
  },
  {
   "attachments": {},
   "cell_type": "markdown",
   "metadata": {},
   "source": [
    "#### Step 2: Use the `savings_data` list to create a Pandas DataFrame named `savings_df`, and then display this DataFrame. The function to create the DataFrame should take the following three parameters:\n",
    "\n",
    "- `savings_data`: Use the list that you just created.\n",
    "\n",
    "- `columns`: Set this parameter equal to a Python list with a single value called `amount`.\n",
    "\n",
    "- `index`: Set this parameter equal to a Python list with the values of `crypto` and `stock/bond`.\n"
   ]
  },
  {
   "cell_type": "code",
   "execution_count": 30,
   "metadata": {},
   "outputs": [
    {
     "data": {
      "text/html": [
       "<div>\n",
       "<style scoped>\n",
       "    .dataframe tbody tr th:only-of-type {\n",
       "        vertical-align: middle;\n",
       "    }\n",
       "\n",
       "    .dataframe tbody tr th {\n",
       "        vertical-align: top;\n",
       "    }\n",
       "\n",
       "    .dataframe thead th {\n",
       "        text-align: right;\n",
       "    }\n",
       "</style>\n",
       "<table border=\"1\" class=\"dataframe\">\n",
       "  <thead>\n",
       "    <tr style=\"text-align: right;\">\n",
       "      <th></th>\n",
       "      <th>Amount</th>\n",
       "    </tr>\n",
       "  </thead>\n",
       "  <tbody>\n",
       "    <tr>\n",
       "      <th>Cypto</th>\n",
       "      <td>50197.817</td>\n",
       "    </tr>\n",
       "    <tr>\n",
       "      <th>Stock/Bond</th>\n",
       "      <td>65664.200</td>\n",
       "    </tr>\n",
       "  </tbody>\n",
       "</table>\n",
       "</div>"
      ],
      "text/plain": [
       "               Amount\n",
       "Cypto       50197.817\n",
       "Stock/Bond  65664.200"
      ]
     },
     "execution_count": 30,
     "metadata": {},
     "output_type": "execute_result"
    }
   ],
   "source": [
    "# Create a Pandas DataFrame called savings_df \n",
    "savings_df = pd.DataFrame({'Amount': savings_data}, index=['Cypto', 'Stock/Bond'])\n",
    "\n",
    "# Display the savings_df DataFrame\n",
    "savings_df\n"
   ]
  },
  {
   "attachments": {},
   "cell_type": "markdown",
   "metadata": {},
   "source": [
    "#### Step 3: Use the `savings_df` DataFrame to plot a pie chart that visualizes the composition of the member’s portfolio. The y-axis of the pie chart uses `amount`. Be sure to add a title."
   ]
  },
  {
   "cell_type": "code",
   "execution_count": 31,
   "metadata": {},
   "outputs": [
    {
     "data": {
      "text/plain": [
       "<AxesSubplot:title={'center':'Portfolio Composition - 5-19-2023'}, ylabel='Amount'>"
      ]
     },
     "execution_count": 31,
     "metadata": {},
     "output_type": "execute_result"
    },
    {
     "data": {
      "image/png": "[encoded data removed]",
      "text/plain": [
       "<Figure size 640x480 with 1 Axes>"
      ]
     },
     "metadata": {},
     "output_type": "display_data"
    }
   ],
   "source": [
    "# Plot the total value of the member's portfolio (crypto and stock/bond) in a pie chart\n",
    "savings_df.plot.pie(y='Amount', title='Portfolio Composition - 5-19-2023')\n"
   ]
  },
  {
   "attachments": {},
   "cell_type": "markdown",
   "metadata": {},
   "source": [
    "#### Step 4: Using Python, determine if the current portfolio has enough to create an emergency fund as part of the member’s financial plan. Ideally, an emergency fund should equal to three times the member’s monthly income. To do this, implement the following steps:\n",
    "\n",
    "Step 1. Create a variable named `emergency_fund_value`, and set it equal to three times the value of the member’s `monthly_income` of 12000. (You set this earlier in Part 1).\n",
    "\n",
    "Step 2. Create a series of three if statements to determine if the member’s total portfolio is large enough to fund the emergency portfolio:\n",
    "\n",
    "* If the total portfolio value is greater than the emergency fund value, display a message congratulating the member for having enough money in this fund.\n",
    "\n",
    "* Else if the total portfolio value is equal to the emergency fund value, display a message congratulating the member on reaching this important financial goal.\n",
    "\n",
    "* Else the total portfolio is less than the emergency fund value, so display a message showing how many dollars away the member is from reaching the goal. (Subtract the total portfolio value from the emergency fund value.)\n"
   ]
  },
  {
   "attachments": {},
   "cell_type": "markdown",
   "metadata": {},
   "source": [
    "##### Step 4-1: Create a variable named `emergency_fund_value`, and set it equal to three times the value of the member’s `monthly_income` of 12000. (You set this earlier in Part 1)."
   ]
  },
  {
   "cell_type": "code",
   "execution_count": 32,
   "metadata": {},
   "outputs": [],
   "source": [
    "# Create a variable named emergency_fund_value\n",
    "emergency_fund_value = monthly_income * 3\n"
   ]
  },
  {
   "attachments": {},
   "cell_type": "markdown",
   "metadata": {},
   "source": [
    "##### Step 4-2: Create a series of three if statements to determine if the member’s total portfolio is large enough to fund the emergency portfolio:\n",
    "\n",
    "* If the total portfolio value is greater than the emergency fund value, display a message congratulating the member for having enough money in this fund.\n",
    "\n",
    "* Else if the total portfolio value is equal to the emergency fund value, display a message congratulating the member on reaching this important financial goal.\n",
    "\n",
    "* Else the total portfolio is less than the emergency fund value, so display a message showing how many dollars away the member is from reaching the goal. (Subtract the total portfolio value from the emergency fund value.)"
   ]
  },
  {
   "cell_type": "code",
   "execution_count": 33,
   "metadata": {},
   "outputs": [
    {
     "name": "stdout",
     "output_type": "stream",
     "text": [
      "You need $79862.02 to reach your emergency fund goal\n"
     ]
    }
   ],
   "source": [
    "# Evaluate the possibility of creating an emergency fund with 3 conditions:\n",
    "if emergency_fund_value >= total_portfolio: \n",
    "    print(f'Congradulations you have an adequate amount of money in your emergency fund!')\n",
    "elif emergency_fund_value == total_portfolio:\n",
    "    print(f\"Your emergency fund is equal to your total portfolio\")\n",
    "else: print(f'You need ${total_portfolio - emergency_fund_value:0.2f} to reach your emergency fund goal')"
   ]
  },
  {
   "attachments": {},
   "cell_type": "markdown",
   "metadata": {},
   "source": [
    "## Part 2: Create a Financial Planner for Retirement"
   ]
  },
  {
   "attachments": {},
   "cell_type": "markdown",
   "metadata": {},
   "source": [
    "### Create the Monte Carlo Simulation\n",
    "\n",
    "In this section, you’ll use the MCForecastTools library to create a Monte Carlo simulation for the member’s savings portfolio. To do this, complete the following steps:\n",
    "\n",
    "1. Make an API call via the Alpaca SDK to get 3 years of historical closing prices for a traditional 60/40 portfolio split: 60% stocks (SPY) and 40% bonds (AGG).\n",
    "\n",
    "2. Run a Monte Carlo simulation of 500 samples and 30 years for the 60/40 portfolio, and then plot the results.The following image shows the overlay line plot resulting from a simulation with these characteristics. However, because a random number generator is used to run each live Monte Carlo simulation, your image will differ slightly from this exact image:\n",
    "\n",
    "![A screenshot depicts the resulting plot.](Images/5-4-monte-carlo-line-plot.png)\n",
    "\n",
    "3. Plot the probability distribution of the Monte Carlo simulation. Plot the probability distribution of the Monte Carlo simulation. The following image shows the histogram plot resulting from a simulation with these characteristics. However, because a random number generator is used to run each live Monte Carlo simulation, your image will differ slightly from this exact image:\n",
    "\n",
    "![A screenshot depicts the histogram plot.](Images/5-4-monte-carlo-histogram.png)\n",
    "\n",
    "4. Generate the summary statistics for the Monte Carlo simulation.\n",
    "\n"
   ]
  },
  {
   "attachments": {},
   "cell_type": "markdown",
   "metadata": {},
   "source": [
    "#### Step 1: Make an API call via the Alpaca SDK to get 3 years of historical closing prices for a traditional 60/40 portfolio split: 60% stocks (SPY) and 40% bonds (AGG)."
   ]
  },
  {
   "cell_type": "code",
   "execution_count": 34,
   "metadata": {},
   "outputs": [],
   "source": [
    "# Set start and end dates of 3 years back from your current date\n",
    "# Alternatively, you can use an end date of 2020-08-07 and work 3 years back from that date \n",
    "start_date = pd.Timestamp(\"2020-05-19\", tz=\"America/New_York\").isoformat()\n",
    "end_date = pd.Timestamp(\"2023-05-19\", tz=\"America/New_York\").isoformat()\n"
   ]
  },
  {
   "cell_type": "code",
   "execution_count": 35,
   "metadata": {},
   "outputs": [
    {
     "data": {
      "text/html": [
       "<div>\n",
       "<style scoped>\n",
       "    .dataframe tbody tr th:only-of-type {\n",
       "        vertical-align: middle;\n",
       "    }\n",
       "\n",
       "    .dataframe tbody tr th {\n",
       "        vertical-align: top;\n",
       "    }\n",
       "\n",
       "    .dataframe thead tr th {\n",
       "        text-align: left;\n",
       "    }\n",
       "\n",
       "    .dataframe thead tr:last-of-type th {\n",
       "        text-align: right;\n",
       "    }\n",
       "</style>\n",
       "<table border=\"1\" class=\"dataframe\">\n",
       "  <thead>\n",
       "    <tr>\n",
       "      <th></th>\n",
       "      <th colspan=\"7\" halign=\"left\">SPY</th>\n",
       "      <th colspan=\"7\" halign=\"left\">AGG</th>\n",
       "    </tr>\n",
       "    <tr>\n",
       "      <th></th>\n",
       "      <th>open</th>\n",
       "      <th>high</th>\n",
       "      <th>low</th>\n",
       "      <th>close</th>\n",
       "      <th>volume</th>\n",
       "      <th>trade_count</th>\n",
       "      <th>vwap</th>\n",
       "      <th>open</th>\n",
       "      <th>high</th>\n",
       "      <th>low</th>\n",
       "      <th>close</th>\n",
       "      <th>volume</th>\n",
       "      <th>trade_count</th>\n",
       "      <th>vwap</th>\n",
       "    </tr>\n",
       "    <tr>\n",
       "      <th>timestamp</th>\n",
       "      <th></th>\n",
       "      <th></th>\n",
       "      <th></th>\n",
       "      <th></th>\n",
       "      <th></th>\n",
       "      <th></th>\n",
       "      <th></th>\n",
       "      <th></th>\n",
       "      <th></th>\n",
       "      <th></th>\n",
       "      <th></th>\n",
       "      <th></th>\n",
       "      <th></th>\n",
       "      <th></th>\n",
       "    </tr>\n",
       "  </thead>\n",
       "  <tbody>\n",
       "    <tr>\n",
       "      <th>2023-05-15 04:00:00+00:00</th>\n",
       "      <td>412.22</td>\n",
       "      <td>413.430</td>\n",
       "      <td>410.230</td>\n",
       "      <td>413.01</td>\n",
       "      <td>54303416</td>\n",
       "      <td>428270</td>\n",
       "      <td>412.120209</td>\n",
       "      <td>99.21</td>\n",
       "      <td>99.220</td>\n",
       "      <td>99.10</td>\n",
       "      <td>99.14</td>\n",
       "      <td>8532590</td>\n",
       "      <td>21205</td>\n",
       "      <td>99.180775</td>\n",
       "    </tr>\n",
       "    <tr>\n",
       "      <th>2023-05-16 04:00:00+00:00</th>\n",
       "      <td>411.86</td>\n",
       "      <td>412.815</td>\n",
       "      <td>410.240</td>\n",
       "      <td>410.25</td>\n",
       "      <td>57718492</td>\n",
       "      <td>447962</td>\n",
       "      <td>411.377223</td>\n",
       "      <td>98.89</td>\n",
       "      <td>98.950</td>\n",
       "      <td>98.74</td>\n",
       "      <td>98.91</td>\n",
       "      <td>6728498</td>\n",
       "      <td>22582</td>\n",
       "      <td>98.892751</td>\n",
       "    </tr>\n",
       "    <tr>\n",
       "      <th>2023-05-17 04:00:00+00:00</th>\n",
       "      <td>412.35</td>\n",
       "      <td>415.855</td>\n",
       "      <td>410.635</td>\n",
       "      <td>415.23</td>\n",
       "      <td>87290569</td>\n",
       "      <td>585410</td>\n",
       "      <td>413.438052</td>\n",
       "      <td>98.99</td>\n",
       "      <td>99.025</td>\n",
       "      <td>98.68</td>\n",
       "      <td>98.76</td>\n",
       "      <td>6318684</td>\n",
       "      <td>22655</td>\n",
       "      <td>98.776436</td>\n",
       "    </tr>\n",
       "    <tr>\n",
       "      <th>2023-05-18 04:00:00+00:00</th>\n",
       "      <td>414.90</td>\n",
       "      <td>419.670</td>\n",
       "      <td>414.670</td>\n",
       "      <td>419.23</td>\n",
       "      <td>97177195</td>\n",
       "      <td>672492</td>\n",
       "      <td>417.182771</td>\n",
       "      <td>98.49</td>\n",
       "      <td>98.510</td>\n",
       "      <td>98.27</td>\n",
       "      <td>98.30</td>\n",
       "      <td>4811544</td>\n",
       "      <td>20591</td>\n",
       "      <td>98.394474</td>\n",
       "    </tr>\n",
       "    <tr>\n",
       "      <th>2023-05-19 04:00:00+00:00</th>\n",
       "      <td>420.17</td>\n",
       "      <td>420.720</td>\n",
       "      <td>417.350</td>\n",
       "      <td>418.62</td>\n",
       "      <td>100652205</td>\n",
       "      <td>621554</td>\n",
       "      <td>419.029130</td>\n",
       "      <td>98.13</td>\n",
       "      <td>98.440</td>\n",
       "      <td>98.00</td>\n",
       "      <td>98.08</td>\n",
       "      <td>10010190</td>\n",
       "      <td>28063</td>\n",
       "      <td>98.178642</td>\n",
       "    </tr>\n",
       "  </tbody>\n",
       "</table>\n",
       "</div>"
      ],
      "text/plain": [
       "                              SPY                                       \\\n",
       "                             open     high      low   close     volume   \n",
       "timestamp                                                                \n",
       "2023-05-15 04:00:00+00:00  412.22  413.430  410.230  413.01   54303416   \n",
       "2023-05-16 04:00:00+00:00  411.86  412.815  410.240  410.25   57718492   \n",
       "2023-05-17 04:00:00+00:00  412.35  415.855  410.635  415.23   87290569   \n",
       "2023-05-18 04:00:00+00:00  414.90  419.670  414.670  419.23   97177195   \n",
       "2023-05-19 04:00:00+00:00  420.17  420.720  417.350  418.62  100652205   \n",
       "\n",
       "                                                     AGG                 \\\n",
       "                          trade_count        vwap   open    high    low   \n",
       "timestamp                                                                 \n",
       "2023-05-15 04:00:00+00:00      428270  412.120209  99.21  99.220  99.10   \n",
       "2023-05-16 04:00:00+00:00      447962  411.377223  98.89  98.950  98.74   \n",
       "2023-05-17 04:00:00+00:00      585410  413.438052  98.99  99.025  98.68   \n",
       "2023-05-18 04:00:00+00:00      672492  417.182771  98.49  98.510  98.27   \n",
       "2023-05-19 04:00:00+00:00      621554  419.029130  98.13  98.440  98.00   \n",
       "\n",
       "                                                                   \n",
       "                           close    volume trade_count       vwap  \n",
       "timestamp                                                          \n",
       "2023-05-15 04:00:00+00:00  99.14   8532590       21205  99.180775  \n",
       "2023-05-16 04:00:00+00:00  98.91   6728498       22582  98.892751  \n",
       "2023-05-17 04:00:00+00:00  98.76   6318684       22655  98.776436  \n",
       "2023-05-18 04:00:00+00:00  98.30   4811544       20591  98.394474  \n",
       "2023-05-19 04:00:00+00:00  98.08  10010190       28063  98.178642  "
      ]
     },
     "execution_count": 35,
     "metadata": {},
     "output_type": "execute_result"
    }
   ],
   "source": [
    "# Use the Alpaca get_bars function to make the API call to get the 3 years worth of pricing data\n",
    "# The tickers and timeframe parameters should have been set in Part 1 of this activity \n",
    "# The start and end dates should be updated with the information set above\n",
    "# Remember to add the df property to the end of the call so the response is returned as a DataFrame\n",
    "prices_df = alpaca.get_bars(tickers, timeframe, start = start_date, end = end_date).df\n",
    "\n",
    "\n",
    "# Reorganize the DataFrame\n",
    "# Separate ticker data\n",
    "SPY = prices_df[prices_df['symbol']=='SPY'].drop('symbol', axis=1)\n",
    "AGG = prices_df[prices_df['symbol']=='AGG'].drop('symbol', axis=1) \n",
    "\n",
    "# Concatenate the ticker DataFrames\n",
    "prices_df = pd.concat([SPY, AGG], axis=1, keys=[\"SPY\", \"AGG\"])\n",
    "\n",
    "# Display both the first and last five rows of the DataFrame\n",
    "prices_df.head()\n",
    "prices_df.tail()\n"
   ]
  },
  {
   "attachments": {},
   "cell_type": "markdown",
   "metadata": {},
   "source": [
    "#### Step 2: Run a Monte Carlo simulation of 500 samples and 30 years for the 60/40 portfolio, and then plot the results."
   ]
  },
  {
   "cell_type": "code",
   "execution_count": 36,
   "metadata": {},
   "outputs": [
    {
     "data": {
      "text/html": [
       "<div>\n",
       "<style scoped>\n",
       "    .dataframe tbody tr th:only-of-type {\n",
       "        vertical-align: middle;\n",
       "    }\n",
       "\n",
       "    .dataframe tbody tr th {\n",
       "        vertical-align: top;\n",
       "    }\n",
       "\n",
       "    .dataframe thead tr th {\n",
       "        text-align: left;\n",
       "    }\n",
       "\n",
       "    .dataframe thead tr:last-of-type th {\n",
       "        text-align: right;\n",
       "    }\n",
       "</style>\n",
       "<table border=\"1\" class=\"dataframe\">\n",
       "  <thead>\n",
       "    <tr>\n",
       "      <th></th>\n",
       "      <th colspan=\"8\" halign=\"left\">SPY</th>\n",
       "      <th colspan=\"8\" halign=\"left\">AGG</th>\n",
       "    </tr>\n",
       "    <tr>\n",
       "      <th></th>\n",
       "      <th>open</th>\n",
       "      <th>high</th>\n",
       "      <th>low</th>\n",
       "      <th>close</th>\n",
       "      <th>volume</th>\n",
       "      <th>trade_count</th>\n",
       "      <th>vwap</th>\n",
       "      <th>daily_return</th>\n",
       "      <th>open</th>\n",
       "      <th>high</th>\n",
       "      <th>low</th>\n",
       "      <th>close</th>\n",
       "      <th>volume</th>\n",
       "      <th>trade_count</th>\n",
       "      <th>vwap</th>\n",
       "      <th>daily_return</th>\n",
       "    </tr>\n",
       "    <tr>\n",
       "      <th>timestamp</th>\n",
       "      <th></th>\n",
       "      <th></th>\n",
       "      <th></th>\n",
       "      <th></th>\n",
       "      <th></th>\n",
       "      <th></th>\n",
       "      <th></th>\n",
       "      <th></th>\n",
       "      <th></th>\n",
       "      <th></th>\n",
       "      <th></th>\n",
       "      <th></th>\n",
       "      <th></th>\n",
       "      <th></th>\n",
       "      <th></th>\n",
       "      <th></th>\n",
       "    </tr>\n",
       "  </thead>\n",
       "  <tbody>\n",
       "    <tr>\n",
       "      <th>2020-05-19 04:00:00+00:00</th>\n",
       "      <td>294.35</td>\n",
       "      <td>296.205</td>\n",
       "      <td>291.9500</td>\n",
       "      <td>292.21</td>\n",
       "      <td>95189316</td>\n",
       "      <td>486351</td>\n",
       "      <td>294.284637</td>\n",
       "      <td>NaN</td>\n",
       "      <td>116.91</td>\n",
       "      <td>117.0255</td>\n",
       "      <td>116.81</td>\n",
       "      <td>116.99</td>\n",
       "      <td>4929483</td>\n",
       "      <td>15789</td>\n",
       "      <td>116.940312</td>\n",
       "      <td>NaN</td>\n",
       "    </tr>\n",
       "    <tr>\n",
       "      <th>2020-05-20 04:00:00+00:00</th>\n",
       "      <td>295.82</td>\n",
       "      <td>297.870</td>\n",
       "      <td>295.5700</td>\n",
       "      <td>297.03</td>\n",
       "      <td>85861691</td>\n",
       "      <td>414736</td>\n",
       "      <td>296.672510</td>\n",
       "      <td>0.016495</td>\n",
       "      <td>117.03</td>\n",
       "      <td>117.3400</td>\n",
       "      <td>117.00</td>\n",
       "      <td>117.29</td>\n",
       "      <td>4579246</td>\n",
       "      <td>15680</td>\n",
       "      <td>117.217882</td>\n",
       "      <td>0.002564</td>\n",
       "    </tr>\n",
       "    <tr>\n",
       "      <th>2020-05-21 04:00:00+00:00</th>\n",
       "      <td>296.79</td>\n",
       "      <td>297.670</td>\n",
       "      <td>293.6886</td>\n",
       "      <td>294.83</td>\n",
       "      <td>78293931</td>\n",
       "      <td>476462</td>\n",
       "      <td>295.509638</td>\n",
       "      <td>-0.007407</td>\n",
       "      <td>117.35</td>\n",
       "      <td>117.4750</td>\n",
       "      <td>117.32</td>\n",
       "      <td>117.38</td>\n",
       "      <td>5143735</td>\n",
       "      <td>16691</td>\n",
       "      <td>117.409648</td>\n",
       "      <td>0.000767</td>\n",
       "    </tr>\n",
       "    <tr>\n",
       "      <th>2020-05-22 04:00:00+00:00</th>\n",
       "      <td>294.57</td>\n",
       "      <td>295.630</td>\n",
       "      <td>293.2200</td>\n",
       "      <td>295.48</td>\n",
       "      <td>63958200</td>\n",
       "      <td>348742</td>\n",
       "      <td>294.609058</td>\n",
       "      <td>0.002205</td>\n",
       "      <td>117.60</td>\n",
       "      <td>117.6000</td>\n",
       "      <td>117.39</td>\n",
       "      <td>117.44</td>\n",
       "      <td>2794003</td>\n",
       "      <td>10343</td>\n",
       "      <td>117.432268</td>\n",
       "      <td>0.000511</td>\n",
       "    </tr>\n",
       "    <tr>\n",
       "      <th>2020-05-26 04:00:00+00:00</th>\n",
       "      <td>301.93</td>\n",
       "      <td>302.190</td>\n",
       "      <td>295.4646</td>\n",
       "      <td>299.20</td>\n",
       "      <td>88951583</td>\n",
       "      <td>442146</td>\n",
       "      <td>299.857871</td>\n",
       "      <td>0.012590</td>\n",
       "      <td>117.38</td>\n",
       "      <td>117.4400</td>\n",
       "      <td>117.24</td>\n",
       "      <td>117.25</td>\n",
       "      <td>6164678</td>\n",
       "      <td>19661</td>\n",
       "      <td>117.313349</td>\n",
       "      <td>-0.001618</td>\n",
       "    </tr>\n",
       "  </tbody>\n",
       "</table>\n",
       "</div>"
      ],
      "text/plain": [
       "                              SPY                                       \\\n",
       "                             open     high       low   close    volume   \n",
       "timestamp                                                                \n",
       "2020-05-19 04:00:00+00:00  294.35  296.205  291.9500  292.21  95189316   \n",
       "2020-05-20 04:00:00+00:00  295.82  297.870  295.5700  297.03  85861691   \n",
       "2020-05-21 04:00:00+00:00  296.79  297.670  293.6886  294.83  78293931   \n",
       "2020-05-22 04:00:00+00:00  294.57  295.630  293.2200  295.48  63958200   \n",
       "2020-05-26 04:00:00+00:00  301.93  302.190  295.4646  299.20  88951583   \n",
       "\n",
       "                                                                   AGG  \\\n",
       "                          trade_count        vwap daily_return    open   \n",
       "timestamp                                                                \n",
       "2020-05-19 04:00:00+00:00      486351  294.284637          NaN  116.91   \n",
       "2020-05-20 04:00:00+00:00      414736  296.672510     0.016495  117.03   \n",
       "2020-05-21 04:00:00+00:00      476462  295.509638    -0.007407  117.35   \n",
       "2020-05-22 04:00:00+00:00      348742  294.609058     0.002205  117.60   \n",
       "2020-05-26 04:00:00+00:00      442146  299.857871     0.012590  117.38   \n",
       "\n",
       "                                                                          \\\n",
       "                               high     low   close   volume trade_count   \n",
       "timestamp                                                                  \n",
       "2020-05-19 04:00:00+00:00  117.0255  116.81  116.99  4929483       15789   \n",
       "2020-05-20 04:00:00+00:00  117.3400  117.00  117.29  4579246       15680   \n",
       "2020-05-21 04:00:00+00:00  117.4750  117.32  117.38  5143735       16691   \n",
       "2020-05-22 04:00:00+00:00  117.6000  117.39  117.44  2794003       10343   \n",
       "2020-05-26 04:00:00+00:00  117.4400  117.24  117.25  6164678       19661   \n",
       "\n",
       "                                                    \n",
       "                                 vwap daily_return  \n",
       "timestamp                                           \n",
       "2020-05-19 04:00:00+00:00  116.940312          NaN  \n",
       "2020-05-20 04:00:00+00:00  117.217882     0.002564  \n",
       "2020-05-21 04:00:00+00:00  117.409648     0.000767  \n",
       "2020-05-22 04:00:00+00:00  117.432268     0.000511  \n",
       "2020-05-26 04:00:00+00:00  117.313349    -0.001618  "
      ]
     },
     "execution_count": 36,
     "metadata": {},
     "output_type": "execute_result"
    }
   ],
   "source": [
    "# Configure the Monte Carlo simulation to forecast 30 years cumulative returns\n",
    "# The weights should be split 40% to AGG and 60% to SPY.\n",
    "# Run 500 samples.\n",
    "MC_thirtyyears = MCSimulation(portfolio_data= prices_df, weights= [.60, .40], num_simulation= 500, num_trading_days= 252*30)\n",
    "\n",
    "# Review the simulation input data\n",
    "MC_thirtyyears.portfolio_data.head()\n"
   ]
  },
  {
   "cell_type": "code",
   "execution_count": 37,
   "metadata": {},
   "outputs": [
    {
     "name": "stdout",
     "output_type": "stream",
     "text": [
      "Running Monte Carlo simulation number 0.\n",
      "Running Monte Carlo simulation number 10.\n",
      "Running Monte Carlo simulation number 20.\n",
      "Running Monte Carlo simulation number 30.\n",
      "Running Monte Carlo simulation number 40.\n",
      "Running Monte Carlo simulation number 50.\n",
      "Running Monte Carlo simulation number 60.\n",
      "Running Monte Carlo simulation number 70.\n",
      "Running Monte Carlo simulation number 80.\n",
      "Running Monte Carlo simulation number 90.\n",
      "Running Monte Carlo simulation number 100.\n"
     ]
    },
    {
     "name": "stderr",
     "output_type": "stream",
     "text": [
      "/Users/prettysexy/Desktop/Challenge_5/Challenge-5/MCForecastTools.py:117: PerformanceWarning: DataFrame is highly fragmented.  This is usually the result of calling `frame.insert` many times, which has poor performance.  Consider joining all columns at once using pd.concat(axis=1) instead.  To get a de-fragmented frame, use `newframe = frame.copy()`\n",
      "  portfolio_cumulative_returns[n] = (1 + sim_df.fillna(0)).cumprod()\n"
     ]
    },
    {
     "name": "stdout",
     "output_type": "stream",
     "text": [
      "Running Monte Carlo simulation number 110.\n",
      "Running Monte Carlo simulation number 120.\n",
      "Running Monte Carlo simulation number 130.\n",
      "Running Monte Carlo simulation number 140.\n",
      "Running Monte Carlo simulation number 150.\n",
      "Running Monte Carlo simulation number 160.\n",
      "Running Monte Carlo simulation number 170.\n",
      "Running Monte Carlo simulation number 180.\n",
      "Running Monte Carlo simulation number 190.\n",
      "Running Monte Carlo simulation number 200.\n",
      "Running Monte Carlo simulation number 210.\n",
      "Running Monte Carlo simulation number 220.\n",
      "Running Monte Carlo simulation number 230.\n",
      "Running Monte Carlo simulation number 240.\n",
      "Running Monte Carlo simulation number 250.\n",
      "Running Monte Carlo simulation number 260.\n",
      "Running Monte Carlo simulation number 270.\n",
      "Running Monte Carlo simulation number 280.\n",
      "Running Monte Carlo simulation number 290.\n",
      "Running Monte Carlo simulation number 300.\n",
      "Running Monte Carlo simulation number 310.\n",
      "Running Monte Carlo simulation number 320.\n",
      "Running Monte Carlo simulation number 330.\n",
      "Running Monte Carlo simulation number 340.\n",
      "Running Monte Carlo simulation number 350.\n",
      "Running Monte Carlo simulation number 360.\n",
      "Running Monte Carlo simulation number 370.\n",
      "Running Monte Carlo simulation number 380.\n",
      "Running Monte Carlo simulation number 390.\n",
      "Running Monte Carlo simulation number 400.\n",
      "Running Monte Carlo simulation number 410.\n",
      "Running Monte Carlo simulation number 420.\n",
      "Running Monte Carlo simulation number 430.\n",
      "Running Monte Carlo simulation number 440.\n",
      "Running Monte Carlo simulation number 450.\n",
      "Running Monte Carlo simulation number 460.\n",
      "Running Monte Carlo simulation number 470.\n",
      "Running Monte Carlo simulation number 480.\n",
      "Running Monte Carlo simulation number 490.\n"
     ]
    },
    {
     "data": {
      "text/html": [
       "<div>\n",
       "<style scoped>\n",
       "    .dataframe tbody tr th:only-of-type {\n",
       "        vertical-align: middle;\n",
       "    }\n",
       "\n",
       "    .dataframe tbody tr th {\n",
       "        vertical-align: top;\n",
       "    }\n",
       "\n",
       "    .dataframe thead th {\n",
       "        text-align: right;\n",
       "    }\n",
       "</style>\n",
       "<table border=\"1\" class=\"dataframe\">\n",
       "  <thead>\n",
       "    <tr style=\"text-align: right;\">\n",
       "      <th></th>\n",
       "      <th>0</th>\n",
       "      <th>1</th>\n",
       "      <th>2</th>\n",
       "      <th>3</th>\n",
       "      <th>4</th>\n",
       "      <th>5</th>\n",
       "      <th>6</th>\n",
       "      <th>7</th>\n",
       "      <th>8</th>\n",
       "      <th>9</th>\n",
       "      <th>...</th>\n",
       "      <th>490</th>\n",
       "      <th>491</th>\n",
       "      <th>492</th>\n",
       "      <th>493</th>\n",
       "      <th>494</th>\n",
       "      <th>495</th>\n",
       "      <th>496</th>\n",
       "      <th>497</th>\n",
       "      <th>498</th>\n",
       "      <th>499</th>\n",
       "    </tr>\n",
       "  </thead>\n",
       "  <tbody>\n",
       "    <tr>\n",
       "      <th>0</th>\n",
       "      <td>1.000000</td>\n",
       "      <td>1.000000</td>\n",
       "      <td>1.000000</td>\n",
       "      <td>1.000000</td>\n",
       "      <td>1.000000</td>\n",
       "      <td>1.000000</td>\n",
       "      <td>1.000000</td>\n",
       "      <td>1.000000</td>\n",
       "      <td>1.000000</td>\n",
       "      <td>1.000000</td>\n",
       "      <td>...</td>\n",
       "      <td>1.000000</td>\n",
       "      <td>1.000000</td>\n",
       "      <td>1.000000</td>\n",
       "      <td>1.000000</td>\n",
       "      <td>1.000000</td>\n",
       "      <td>1.000000</td>\n",
       "      <td>1.000000</td>\n",
       "      <td>1.000000</td>\n",
       "      <td>1.000000</td>\n",
       "      <td>1.000000</td>\n",
       "    </tr>\n",
       "    <tr>\n",
       "      <th>1</th>\n",
       "      <td>1.008403</td>\n",
       "      <td>0.992290</td>\n",
       "      <td>1.012407</td>\n",
       "      <td>0.994071</td>\n",
       "      <td>0.999701</td>\n",
       "      <td>0.998767</td>\n",
       "      <td>0.987684</td>\n",
       "      <td>1.002725</td>\n",
       "      <td>0.998021</td>\n",
       "      <td>1.012238</td>\n",
       "      <td>...</td>\n",
       "      <td>1.009216</td>\n",
       "      <td>0.994586</td>\n",
       "      <td>0.986122</td>\n",
       "      <td>0.996310</td>\n",
       "      <td>0.995855</td>\n",
       "      <td>0.998088</td>\n",
       "      <td>1.000143</td>\n",
       "      <td>1.001858</td>\n",
       "      <td>1.014653</td>\n",
       "      <td>1.003643</td>\n",
       "    </tr>\n",
       "    <tr>\n",
       "      <th>2</th>\n",
       "      <td>1.013442</td>\n",
       "      <td>0.980636</td>\n",
       "      <td>1.006022</td>\n",
       "      <td>0.988805</td>\n",
       "      <td>0.997432</td>\n",
       "      <td>0.997782</td>\n",
       "      <td>0.974752</td>\n",
       "      <td>1.000421</td>\n",
       "      <td>1.001486</td>\n",
       "      <td>1.015309</td>\n",
       "      <td>...</td>\n",
       "      <td>1.004399</td>\n",
       "      <td>1.000406</td>\n",
       "      <td>0.984747</td>\n",
       "      <td>0.998777</td>\n",
       "      <td>0.990860</td>\n",
       "      <td>0.988085</td>\n",
       "      <td>0.993641</td>\n",
       "      <td>1.011756</td>\n",
       "      <td>1.016436</td>\n",
       "      <td>1.005439</td>\n",
       "    </tr>\n",
       "    <tr>\n",
       "      <th>3</th>\n",
       "      <td>1.012574</td>\n",
       "      <td>0.974400</td>\n",
       "      <td>0.996351</td>\n",
       "      <td>0.987799</td>\n",
       "      <td>1.000799</td>\n",
       "      <td>0.992836</td>\n",
       "      <td>0.989613</td>\n",
       "      <td>1.001053</td>\n",
       "      <td>0.994429</td>\n",
       "      <td>1.013360</td>\n",
       "      <td>...</td>\n",
       "      <td>0.995127</td>\n",
       "      <td>0.999329</td>\n",
       "      <td>0.978102</td>\n",
       "      <td>1.004841</td>\n",
       "      <td>0.984356</td>\n",
       "      <td>0.987987</td>\n",
       "      <td>0.996100</td>\n",
       "      <td>1.010196</td>\n",
       "      <td>1.018559</td>\n",
       "      <td>0.997667</td>\n",
       "    </tr>\n",
       "    <tr>\n",
       "      <th>4</th>\n",
       "      <td>1.019062</td>\n",
       "      <td>0.979569</td>\n",
       "      <td>0.985335</td>\n",
       "      <td>0.976599</td>\n",
       "      <td>0.999246</td>\n",
       "      <td>0.998116</td>\n",
       "      <td>0.986609</td>\n",
       "      <td>1.001985</td>\n",
       "      <td>0.998331</td>\n",
       "      <td>1.008407</td>\n",
       "      <td>...</td>\n",
       "      <td>1.001429</td>\n",
       "      <td>0.998311</td>\n",
       "      <td>0.974518</td>\n",
       "      <td>0.991092</td>\n",
       "      <td>0.984285</td>\n",
       "      <td>0.986652</td>\n",
       "      <td>1.000894</td>\n",
       "      <td>1.002101</td>\n",
       "      <td>1.018706</td>\n",
       "      <td>0.998229</td>\n",
       "    </tr>\n",
       "    <tr>\n",
       "      <th>...</th>\n",
       "      <td>...</td>\n",
       "      <td>...</td>\n",
       "      <td>...</td>\n",
       "      <td>...</td>\n",
       "      <td>...</td>\n",
       "      <td>...</td>\n",
       "      <td>...</td>\n",
       "      <td>...</td>\n",
       "      <td>...</td>\n",
       "      <td>...</td>\n",
       "      <td>...</td>\n",
       "      <td>...</td>\n",
       "      <td>...</td>\n",
       "      <td>...</td>\n",
       "      <td>...</td>\n",
       "      <td>...</td>\n",
       "      <td>...</td>\n",
       "      <td>...</td>\n",
       "      <td>...</td>\n",
       "      <td>...</td>\n",
       "      <td>...</td>\n",
       "    </tr>\n",
       "    <tr>\n",
       "      <th>7556</th>\n",
       "      <td>3.707856</td>\n",
       "      <td>6.851624</td>\n",
       "      <td>3.767807</td>\n",
       "      <td>9.134051</td>\n",
       "      <td>7.970348</td>\n",
       "      <td>16.005538</td>\n",
       "      <td>5.068669</td>\n",
       "      <td>4.405902</td>\n",
       "      <td>3.895656</td>\n",
       "      <td>5.239939</td>\n",
       "      <td>...</td>\n",
       "      <td>3.753447</td>\n",
       "      <td>2.749706</td>\n",
       "      <td>9.832988</td>\n",
       "      <td>5.850469</td>\n",
       "      <td>3.213301</td>\n",
       "      <td>5.554610</td>\n",
       "      <td>6.919161</td>\n",
       "      <td>10.675716</td>\n",
       "      <td>3.360762</td>\n",
       "      <td>1.726867</td>\n",
       "    </tr>\n",
       "    <tr>\n",
       "      <th>7557</th>\n",
       "      <td>3.711766</td>\n",
       "      <td>6.782936</td>\n",
       "      <td>3.795492</td>\n",
       "      <td>9.172585</td>\n",
       "      <td>7.982661</td>\n",
       "      <td>15.898234</td>\n",
       "      <td>5.089328</td>\n",
       "      <td>4.343137</td>\n",
       "      <td>3.902770</td>\n",
       "      <td>5.268842</td>\n",
       "      <td>...</td>\n",
       "      <td>3.785244</td>\n",
       "      <td>2.742683</td>\n",
       "      <td>9.880551</td>\n",
       "      <td>5.882229</td>\n",
       "      <td>3.192817</td>\n",
       "      <td>5.602236</td>\n",
       "      <td>6.950891</td>\n",
       "      <td>10.659231</td>\n",
       "      <td>3.371308</td>\n",
       "      <td>1.726355</td>\n",
       "    </tr>\n",
       "    <tr>\n",
       "      <th>7558</th>\n",
       "      <td>3.738455</td>\n",
       "      <td>6.800447</td>\n",
       "      <td>3.777621</td>\n",
       "      <td>9.263073</td>\n",
       "      <td>7.943603</td>\n",
       "      <td>15.932744</td>\n",
       "      <td>5.090681</td>\n",
       "      <td>4.380009</td>\n",
       "      <td>3.899919</td>\n",
       "      <td>5.293918</td>\n",
       "      <td>...</td>\n",
       "      <td>3.765394</td>\n",
       "      <td>2.709504</td>\n",
       "      <td>9.854708</td>\n",
       "      <td>5.819573</td>\n",
       "      <td>3.150792</td>\n",
       "      <td>5.649161</td>\n",
       "      <td>6.961995</td>\n",
       "      <td>10.594166</td>\n",
       "      <td>3.370296</td>\n",
       "      <td>1.714619</td>\n",
       "    </tr>\n",
       "    <tr>\n",
       "      <th>7559</th>\n",
       "      <td>3.768002</td>\n",
       "      <td>6.815165</td>\n",
       "      <td>3.829333</td>\n",
       "      <td>9.184764</td>\n",
       "      <td>7.887803</td>\n",
       "      <td>16.075052</td>\n",
       "      <td>5.122673</td>\n",
       "      <td>4.440523</td>\n",
       "      <td>3.918065</td>\n",
       "      <td>5.295261</td>\n",
       "      <td>...</td>\n",
       "      <td>3.759019</td>\n",
       "      <td>2.698252</td>\n",
       "      <td>9.886498</td>\n",
       "      <td>5.821248</td>\n",
       "      <td>3.160124</td>\n",
       "      <td>5.663193</td>\n",
       "      <td>6.959621</td>\n",
       "      <td>10.619315</td>\n",
       "      <td>3.331814</td>\n",
       "      <td>1.718364</td>\n",
       "    </tr>\n",
       "    <tr>\n",
       "      <th>7560</th>\n",
       "      <td>3.771318</td>\n",
       "      <td>6.803162</td>\n",
       "      <td>3.814056</td>\n",
       "      <td>9.089674</td>\n",
       "      <td>7.748692</td>\n",
       "      <td>15.957752</td>\n",
       "      <td>5.121441</td>\n",
       "      <td>4.448232</td>\n",
       "      <td>3.935083</td>\n",
       "      <td>5.274296</td>\n",
       "      <td>...</td>\n",
       "      <td>3.745747</td>\n",
       "      <td>2.682417</td>\n",
       "      <td>9.983616</td>\n",
       "      <td>5.824844</td>\n",
       "      <td>3.142984</td>\n",
       "      <td>5.655250</td>\n",
       "      <td>6.938897</td>\n",
       "      <td>10.714745</td>\n",
       "      <td>3.354781</td>\n",
       "      <td>1.720586</td>\n",
       "    </tr>\n",
       "  </tbody>\n",
       "</table>\n",
       "<p>7561 rows × 500 columns</p>\n",
       "</div>"
      ],
      "text/plain": [
       "           0         1         2         3         4          5         6    \\\n",
       "0     1.000000  1.000000  1.000000  1.000000  1.000000   1.000000  1.000000   \n",
       "1     1.008403  0.992290  1.012407  0.994071  0.999701   0.998767  0.987684   \n",
       "2     1.013442  0.980636  1.006022  0.988805  0.997432   0.997782  0.974752   \n",
       "3     1.012574  0.974400  0.996351  0.987799  1.000799   0.992836  0.989613   \n",
       "4     1.019062  0.979569  0.985335  0.976599  0.999246   0.998116  0.986609   \n",
       "...        ...       ...       ...       ...       ...        ...       ...   \n",
       "7556  3.707856  6.851624  3.767807  9.134051  7.970348  16.005538  5.068669   \n",
       "7557  3.711766  6.782936  3.795492  9.172585  7.982661  15.898234  5.089328   \n",
       "7558  3.738455  6.800447  3.777621  9.263073  7.943603  15.932744  5.090681   \n",
       "7559  3.768002  6.815165  3.829333  9.184764  7.887803  16.075052  5.122673   \n",
       "7560  3.771318  6.803162  3.814056  9.089674  7.748692  15.957752  5.121441   \n",
       "\n",
       "           7         8         9    ...       490       491       492  \\\n",
       "0     1.000000  1.000000  1.000000  ...  1.000000  1.000000  1.000000   \n",
       "1     1.002725  0.998021  1.012238  ...  1.009216  0.994586  0.986122   \n",
       "2     1.000421  1.001486  1.015309  ...  1.004399  1.000406  0.984747   \n",
       "3     1.001053  0.994429  1.013360  ...  0.995127  0.999329  0.978102   \n",
       "4     1.001985  0.998331  1.008407  ...  1.001429  0.998311  0.974518   \n",
       "...        ...       ...       ...  ...       ...       ...       ...   \n",
       "7556  4.405902  3.895656  5.239939  ...  3.753447  2.749706  9.832988   \n",
       "7557  4.343137  3.902770  5.268842  ...  3.785244  2.742683  9.880551   \n",
       "7558  4.380009  3.899919  5.293918  ...  3.765394  2.709504  9.854708   \n",
       "7559  4.440523  3.918065  5.295261  ...  3.759019  2.698252  9.886498   \n",
       "7560  4.448232  3.935083  5.274296  ...  3.745747  2.682417  9.983616   \n",
       "\n",
       "           493       494       495       496        497       498       499  \n",
       "0     1.000000  1.000000  1.000000  1.000000   1.000000  1.000000  1.000000  \n",
       "1     0.996310  0.995855  0.998088  1.000143   1.001858  1.014653  1.003643  \n",
       "2     0.998777  0.990860  0.988085  0.993641   1.011756  1.016436  1.005439  \n",
       "3     1.004841  0.984356  0.987987  0.996100   1.010196  1.018559  0.997667  \n",
       "4     0.991092  0.984285  0.986652  1.000894   1.002101  1.018706  0.998229  \n",
       "...        ...       ...       ...       ...        ...       ...       ...  \n",
       "7556  5.850469  3.213301  5.554610  6.919161  10.675716  3.360762  1.726867  \n",
       "7557  5.882229  3.192817  5.602236  6.950891  10.659231  3.371308  1.726355  \n",
       "7558  5.819573  3.150792  5.649161  6.961995  10.594166  3.370296  1.714619  \n",
       "7559  5.821248  3.160124  5.663193  6.959621  10.619315  3.331814  1.718364  \n",
       "7560  5.824844  3.142984  5.655250  6.938897  10.714745  3.354781  1.720586  \n",
       "\n",
       "[7561 rows x 500 columns]"
      ]
     },
     "execution_count": 37,
     "metadata": {},
     "output_type": "execute_result"
    }
   ],
   "source": [
    "# Run the Monte Carlo simulation to forecast 30 years cumulative returns\n",
    "MC_thirtyyears.calc_cumulative_return()\n"
   ]
  },
  {
   "cell_type": "code",
   "execution_count": 38,
   "metadata": {},
   "outputs": [
    {
     "data": {
      "image/png": "[encoded data removed]",
      "text/plain": [
       "<Figure size 640x480 with 1 Axes>"
      ]
     },
     "metadata": {},
     "output_type": "display_data"
    }
   ],
   "source": [
    "# Visualize the 30-year Monte Carlo simulation by creating an\n",
    "# overlay line plot\n",
    "MC_sim_line_plot = MC_thirtyyears.plot_simulation()\n"
   ]
  },
  {
   "attachments": {},
   "cell_type": "markdown",
   "metadata": {},
   "source": [
    "#### Step 3: Plot the probability distribution of the Monte Carlo simulation."
   ]
  },
  {
   "cell_type": "code",
   "execution_count": 39,
   "metadata": {},
   "outputs": [
    {
     "data": {
      "image/png": "[encoded data removed]",
      "text/plain": [
       "<Figure size 640x480 with 1 Axes>"
      ]
     },
     "metadata": {},
     "output_type": "display_data"
    }
   ],
   "source": [
    "# Visualize the probability distribution of the 30-year Monte Carlo simulation \n",
    "# by plotting a histogram\n",
    "MC_sim_dist_plot = MC_thirtyyears.plot_distribution()\n"
   ]
  },
  {
   "attachments": {},
   "cell_type": "markdown",
   "metadata": {},
   "source": [
    "#### Step 4: Generate the summary statistics for the Monte Carlo simulation."
   ]
  },
  {
   "cell_type": "code",
   "execution_count": 40,
   "metadata": {},
   "outputs": [
    {
     "name": "stdout",
     "output_type": "stream",
     "text": [
      "count           500.000000\n",
      "mean              6.025641\n",
      "std               4.084599\n",
      "min               0.778365\n",
      "25%               3.223711\n",
      "50%               5.019810\n",
      "75%               7.761486\n",
      "max              31.779479\n",
      "95% CI Lower      1.360078\n",
      "95% CI Upper     16.197188\n",
      "Name: 7560, dtype: float64\n"
     ]
    }
   ],
   "source": [
    "# Generate summary statistics from the 30-year Monte Carlo simulation results\n",
    "# Save the results as a variable\n",
    "MC_summary_statistics = MC_thirtyyears.summarize_cumulative_return()\n",
    "\n",
    "\n",
    "# Review the 30-year Monte Carlo summary statistics\n",
    "print(MC_summary_statistics)"
   ]
  },
  {
   "attachments": {},
   "cell_type": "markdown",
   "metadata": {},
   "source": [
    "### Analyze the Retirement Portfolio Forecasts\n",
    "\n",
    "Using the current value of only the stock and bond portion of the member's portfolio and the summary statistics that you generated from the Monte Carlo simulation, answer the following question in your Jupyter notebook:\n",
    "\n",
    "-  What are the lower and upper bounds for the expected value of the portfolio with a 95% confidence interval?\n"
   ]
  },
  {
   "cell_type": "code",
   "execution_count": 41,
   "metadata": {},
   "outputs": [
    {
     "name": "stdout",
     "output_type": "stream",
     "text": [
      "The current value of the stocks and bonds is $65664.20\n"
     ]
    }
   ],
   "source": [
    "# Print the current balance of the stock and bond portion of the members portfolio\n",
    "print(f\"The current value of the stocks and bonds is ${total_stocks_bonds:0.2f}\")\n"
   ]
  },
  {
   "cell_type": "code",
   "execution_count": 42,
   "metadata": {},
   "outputs": [
    {
     "name": "stdout",
     "output_type": "stream",
     "text": [
      "With an itital investment of $12000 in the portfolio there is a 95% chance over the next 30 years will end in a range of$ 16320.94 and $ 194366.25.\n"
     ]
    }
   ],
   "source": [
    "# Use the lower and upper `95%` confidence intervals to calculate the range of the possible outcomes for the current stock/bond portfolio\n",
    "ci_lower_thirty_cumulative_return = MC_summary_statistics[8] * 12000\n",
    "ci_upper_thirty_cumulative_return = MC_summary_statistics[9] * 12000\n",
    "\n",
    "# Print the result of your calculations\n",
    "print(f\"With an itital investment of $12000 in the portfolio there is a 95% chance\"\n",
    "      f\" over the next 30 years will end in a range of\"\n",
    "      f\"${ci_lower_thirty_cumulative_return: .2f} and ${ci_upper_thirty_cumulative_return: .2f}.\")\n"
   ]
  },
  {
   "attachments": {},
   "cell_type": "markdown",
   "metadata": {},
   "source": [
    "### Forecast Cumulative Returns in 10 Years\n",
    "\n",
    "The CTO of the credit union is impressed with your work on these planning tools but wonders if 30 years is a long time to wait until retirement. So, your next task is to adjust the retirement portfolio and run a new Monte Carlo simulation to find out if the changes will allow members to retire earlier.\n",
    "\n",
    "For this new Monte Carlo simulation, do the following: \n",
    "\n",
    "- Forecast the cumulative returns for 10 years from now. Because of the shortened investment horizon (30 years to 10 years), the portfolio needs to invest more heavily in the riskier asset&mdash;that is, stock&mdash;to help accumulate wealth for retirement. \n",
    "\n",
    "- Adjust the weights of the retirement portfolio so that the composition for the Monte Carlo simulation consists of 20% bonds and 80% stocks. \n",
    "\n",
    "- Run the simulation over 500 samples, and use the same data that the API call to Alpaca generated.\n",
    "\n",
    "- Based on the new Monte Carlo simulation, answer the following questions in your Jupyter notebook:\n",
    "\n",
    "    - Using the current value of only the stock and bond portion of the member's portfolio and the summary statistics that you generated from the new Monte Carlo simulation, what are the lower and upper bounds for the expected value of the portfolio (with the new weights) with a 95% confidence interval?\n",
    "\n",
    "    - Will weighting the portfolio more heavily toward stocks allow the credit union members to retire after only 10 years?\n"
   ]
  },
  {
   "cell_type": "code",
   "execution_count": 43,
   "metadata": {},
   "outputs": [
    {
     "data": {
      "text/html": [
       "<div>\n",
       "<style scoped>\n",
       "    .dataframe tbody tr th:only-of-type {\n",
       "        vertical-align: middle;\n",
       "    }\n",
       "\n",
       "    .dataframe tbody tr th {\n",
       "        vertical-align: top;\n",
       "    }\n",
       "\n",
       "    .dataframe thead tr th {\n",
       "        text-align: left;\n",
       "    }\n",
       "\n",
       "    .dataframe thead tr:last-of-type th {\n",
       "        text-align: right;\n",
       "    }\n",
       "</style>\n",
       "<table border=\"1\" class=\"dataframe\">\n",
       "  <thead>\n",
       "    <tr>\n",
       "      <th></th>\n",
       "      <th colspan=\"8\" halign=\"left\">SPY</th>\n",
       "      <th colspan=\"8\" halign=\"left\">AGG</th>\n",
       "    </tr>\n",
       "    <tr>\n",
       "      <th></th>\n",
       "      <th>open</th>\n",
       "      <th>high</th>\n",
       "      <th>low</th>\n",
       "      <th>close</th>\n",
       "      <th>volume</th>\n",
       "      <th>trade_count</th>\n",
       "      <th>vwap</th>\n",
       "      <th>daily_return</th>\n",
       "      <th>open</th>\n",
       "      <th>high</th>\n",
       "      <th>low</th>\n",
       "      <th>close</th>\n",
       "      <th>volume</th>\n",
       "      <th>trade_count</th>\n",
       "      <th>vwap</th>\n",
       "      <th>daily_return</th>\n",
       "    </tr>\n",
       "    <tr>\n",
       "      <th>timestamp</th>\n",
       "      <th></th>\n",
       "      <th></th>\n",
       "      <th></th>\n",
       "      <th></th>\n",
       "      <th></th>\n",
       "      <th></th>\n",
       "      <th></th>\n",
       "      <th></th>\n",
       "      <th></th>\n",
       "      <th></th>\n",
       "      <th></th>\n",
       "      <th></th>\n",
       "      <th></th>\n",
       "      <th></th>\n",
       "      <th></th>\n",
       "      <th></th>\n",
       "    </tr>\n",
       "  </thead>\n",
       "  <tbody>\n",
       "    <tr>\n",
       "      <th>2020-05-19 04:00:00+00:00</th>\n",
       "      <td>294.35</td>\n",
       "      <td>296.205</td>\n",
       "      <td>291.9500</td>\n",
       "      <td>292.21</td>\n",
       "      <td>95189316</td>\n",
       "      <td>486351</td>\n",
       "      <td>294.284637</td>\n",
       "      <td>NaN</td>\n",
       "      <td>116.91</td>\n",
       "      <td>117.0255</td>\n",
       "      <td>116.81</td>\n",
       "      <td>116.99</td>\n",
       "      <td>4929483</td>\n",
       "      <td>15789</td>\n",
       "      <td>116.940312</td>\n",
       "      <td>NaN</td>\n",
       "    </tr>\n",
       "    <tr>\n",
       "      <th>2020-05-20 04:00:00+00:00</th>\n",
       "      <td>295.82</td>\n",
       "      <td>297.870</td>\n",
       "      <td>295.5700</td>\n",
       "      <td>297.03</td>\n",
       "      <td>85861691</td>\n",
       "      <td>414736</td>\n",
       "      <td>296.672510</td>\n",
       "      <td>0.016495</td>\n",
       "      <td>117.03</td>\n",
       "      <td>117.3400</td>\n",
       "      <td>117.00</td>\n",
       "      <td>117.29</td>\n",
       "      <td>4579246</td>\n",
       "      <td>15680</td>\n",
       "      <td>117.217882</td>\n",
       "      <td>0.002564</td>\n",
       "    </tr>\n",
       "    <tr>\n",
       "      <th>2020-05-21 04:00:00+00:00</th>\n",
       "      <td>296.79</td>\n",
       "      <td>297.670</td>\n",
       "      <td>293.6886</td>\n",
       "      <td>294.83</td>\n",
       "      <td>78293931</td>\n",
       "      <td>476462</td>\n",
       "      <td>295.509638</td>\n",
       "      <td>-0.007407</td>\n",
       "      <td>117.35</td>\n",
       "      <td>117.4750</td>\n",
       "      <td>117.32</td>\n",
       "      <td>117.38</td>\n",
       "      <td>5143735</td>\n",
       "      <td>16691</td>\n",
       "      <td>117.409648</td>\n",
       "      <td>0.000767</td>\n",
       "    </tr>\n",
       "    <tr>\n",
       "      <th>2020-05-22 04:00:00+00:00</th>\n",
       "      <td>294.57</td>\n",
       "      <td>295.630</td>\n",
       "      <td>293.2200</td>\n",
       "      <td>295.48</td>\n",
       "      <td>63958200</td>\n",
       "      <td>348742</td>\n",
       "      <td>294.609058</td>\n",
       "      <td>0.002205</td>\n",
       "      <td>117.60</td>\n",
       "      <td>117.6000</td>\n",
       "      <td>117.39</td>\n",
       "      <td>117.44</td>\n",
       "      <td>2794003</td>\n",
       "      <td>10343</td>\n",
       "      <td>117.432268</td>\n",
       "      <td>0.000511</td>\n",
       "    </tr>\n",
       "    <tr>\n",
       "      <th>2020-05-26 04:00:00+00:00</th>\n",
       "      <td>301.93</td>\n",
       "      <td>302.190</td>\n",
       "      <td>295.4646</td>\n",
       "      <td>299.20</td>\n",
       "      <td>88951583</td>\n",
       "      <td>442146</td>\n",
       "      <td>299.857871</td>\n",
       "      <td>0.012590</td>\n",
       "      <td>117.38</td>\n",
       "      <td>117.4400</td>\n",
       "      <td>117.24</td>\n",
       "      <td>117.25</td>\n",
       "      <td>6164678</td>\n",
       "      <td>19661</td>\n",
       "      <td>117.313349</td>\n",
       "      <td>-0.001618</td>\n",
       "    </tr>\n",
       "  </tbody>\n",
       "</table>\n",
       "</div>"
      ],
      "text/plain": [
       "                              SPY                                       \\\n",
       "                             open     high       low   close    volume   \n",
       "timestamp                                                                \n",
       "2020-05-19 04:00:00+00:00  294.35  296.205  291.9500  292.21  95189316   \n",
       "2020-05-20 04:00:00+00:00  295.82  297.870  295.5700  297.03  85861691   \n",
       "2020-05-21 04:00:00+00:00  296.79  297.670  293.6886  294.83  78293931   \n",
       "2020-05-22 04:00:00+00:00  294.57  295.630  293.2200  295.48  63958200   \n",
       "2020-05-26 04:00:00+00:00  301.93  302.190  295.4646  299.20  88951583   \n",
       "\n",
       "                                                                   AGG  \\\n",
       "                          trade_count        vwap daily_return    open   \n",
       "timestamp                                                                \n",
       "2020-05-19 04:00:00+00:00      486351  294.284637          NaN  116.91   \n",
       "2020-05-20 04:00:00+00:00      414736  296.672510     0.016495  117.03   \n",
       "2020-05-21 04:00:00+00:00      476462  295.509638    -0.007407  117.35   \n",
       "2020-05-22 04:00:00+00:00      348742  294.609058     0.002205  117.60   \n",
       "2020-05-26 04:00:00+00:00      442146  299.857871     0.012590  117.38   \n",
       "\n",
       "                                                                          \\\n",
       "                               high     low   close   volume trade_count   \n",
       "timestamp                                                                  \n",
       "2020-05-19 04:00:00+00:00  117.0255  116.81  116.99  4929483       15789   \n",
       "2020-05-20 04:00:00+00:00  117.3400  117.00  117.29  4579246       15680   \n",
       "2020-05-21 04:00:00+00:00  117.4750  117.32  117.38  5143735       16691   \n",
       "2020-05-22 04:00:00+00:00  117.6000  117.39  117.44  2794003       10343   \n",
       "2020-05-26 04:00:00+00:00  117.4400  117.24  117.25  6164678       19661   \n",
       "\n",
       "                                                    \n",
       "                                 vwap daily_return  \n",
       "timestamp                                           \n",
       "2020-05-19 04:00:00+00:00  116.940312          NaN  \n",
       "2020-05-20 04:00:00+00:00  117.217882     0.002564  \n",
       "2020-05-21 04:00:00+00:00  117.409648     0.000767  \n",
       "2020-05-22 04:00:00+00:00  117.432268     0.000511  \n",
       "2020-05-26 04:00:00+00:00  117.313349    -0.001618  "
      ]
     },
     "execution_count": 43,
     "metadata": {},
     "output_type": "execute_result"
    }
   ],
   "source": [
    "# Configure a Monte Carlo simulation to forecast 10 years cumulative returns\n",
    "# The weights should be split 20% to AGG and 80% to SPY.\n",
    "# Run 500 samples.\n",
    "MC_tenyears = MCSimulation(portfolio_data= prices_df, weights= [.80, .20], num_simulation= 500, num_trading_days= 252*30)\n",
    "\n",
    "# Review the simulation input data\n",
    "MC_tenyears.portfolio_data.head()\n"
   ]
  },
  {
   "cell_type": "code",
   "execution_count": 44,
   "metadata": {},
   "outputs": [
    {
     "name": "stdout",
     "output_type": "stream",
     "text": [
      "Running Monte Carlo simulation number 0.\n",
      "Running Monte Carlo simulation number 10.\n",
      "Running Monte Carlo simulation number 20.\n",
      "Running Monte Carlo simulation number 30.\n",
      "Running Monte Carlo simulation number 40.\n",
      "Running Monte Carlo simulation number 50.\n",
      "Running Monte Carlo simulation number 60.\n",
      "Running Monte Carlo simulation number 70.\n",
      "Running Monte Carlo simulation number 80.\n",
      "Running Monte Carlo simulation number 90.\n",
      "Running Monte Carlo simulation number 100.\n"
     ]
    },
    {
     "name": "stderr",
     "output_type": "stream",
     "text": [
      "/Users/prettysexy/Desktop/Challenge_5/Challenge-5/MCForecastTools.py:117: PerformanceWarning: DataFrame is highly fragmented.  This is usually the result of calling `frame.insert` many times, which has poor performance.  Consider joining all columns at once using pd.concat(axis=1) instead.  To get a de-fragmented frame, use `newframe = frame.copy()`\n",
      "  portfolio_cumulative_returns[n] = (1 + sim_df.fillna(0)).cumprod()\n"
     ]
    },
    {
     "name": "stdout",
     "output_type": "stream",
     "text": [
      "Running Monte Carlo simulation number 110.\n",
      "Running Monte Carlo simulation number 120.\n",
      "Running Monte Carlo simulation number 130.\n",
      "Running Monte Carlo simulation number 140.\n",
      "Running Monte Carlo simulation number 150.\n",
      "Running Monte Carlo simulation number 160.\n",
      "Running Monte Carlo simulation number 170.\n",
      "Running Monte Carlo simulation number 180.\n",
      "Running Monte Carlo simulation number 190.\n",
      "Running Monte Carlo simulation number 200.\n",
      "Running Monte Carlo simulation number 210.\n",
      "Running Monte Carlo simulation number 220.\n",
      "Running Monte Carlo simulation number 230.\n",
      "Running Monte Carlo simulation number 240.\n",
      "Running Monte Carlo simulation number 250.\n",
      "Running Monte Carlo simulation number 260.\n",
      "Running Monte Carlo simulation number 270.\n",
      "Running Monte Carlo simulation number 280.\n",
      "Running Monte Carlo simulation number 290.\n",
      "Running Monte Carlo simulation number 300.\n",
      "Running Monte Carlo simulation number 310.\n",
      "Running Monte Carlo simulation number 320.\n",
      "Running Monte Carlo simulation number 330.\n",
      "Running Monte Carlo simulation number 340.\n",
      "Running Monte Carlo simulation number 350.\n",
      "Running Monte Carlo simulation number 360.\n",
      "Running Monte Carlo simulation number 370.\n",
      "Running Monte Carlo simulation number 380.\n",
      "Running Monte Carlo simulation number 390.\n",
      "Running Monte Carlo simulation number 400.\n",
      "Running Monte Carlo simulation number 410.\n",
      "Running Monte Carlo simulation number 420.\n",
      "Running Monte Carlo simulation number 430.\n",
      "Running Monte Carlo simulation number 440.\n",
      "Running Monte Carlo simulation number 450.\n",
      "Running Monte Carlo simulation number 460.\n",
      "Running Monte Carlo simulation number 470.\n",
      "Running Monte Carlo simulation number 480.\n",
      "Running Monte Carlo simulation number 490.\n"
     ]
    },
    {
     "data": {
      "text/html": [
       "<div>\n",
       "<style scoped>\n",
       "    .dataframe tbody tr th:only-of-type {\n",
       "        vertical-align: middle;\n",
       "    }\n",
       "\n",
       "    .dataframe tbody tr th {\n",
       "        vertical-align: top;\n",
       "    }\n",
       "\n",
       "    .dataframe thead th {\n",
       "        text-align: right;\n",
       "    }\n",
       "</style>\n",
       "<table border=\"1\" class=\"dataframe\">\n",
       "  <thead>\n",
       "    <tr style=\"text-align: right;\">\n",
       "      <th></th>\n",
       "      <th>0</th>\n",
       "      <th>1</th>\n",
       "      <th>2</th>\n",
       "      <th>3</th>\n",
       "      <th>4</th>\n",
       "      <th>5</th>\n",
       "      <th>6</th>\n",
       "      <th>7</th>\n",
       "      <th>8</th>\n",
       "      <th>9</th>\n",
       "      <th>...</th>\n",
       "      <th>490</th>\n",
       "      <th>491</th>\n",
       "      <th>492</th>\n",
       "      <th>493</th>\n",
       "      <th>494</th>\n",
       "      <th>495</th>\n",
       "      <th>496</th>\n",
       "      <th>497</th>\n",
       "      <th>498</th>\n",
       "      <th>499</th>\n",
       "    </tr>\n",
       "  </thead>\n",
       "  <tbody>\n",
       "    <tr>\n",
       "      <th>0</th>\n",
       "      <td>1.000000</td>\n",
       "      <td>1.000000</td>\n",
       "      <td>1.000000</td>\n",
       "      <td>1.000000</td>\n",
       "      <td>1.000000</td>\n",
       "      <td>1.000000</td>\n",
       "      <td>1.000000</td>\n",
       "      <td>1.000000</td>\n",
       "      <td>1.000000</td>\n",
       "      <td>1.000000</td>\n",
       "      <td>...</td>\n",
       "      <td>1.000000</td>\n",
       "      <td>1.000000</td>\n",
       "      <td>1.000000</td>\n",
       "      <td>1.000000</td>\n",
       "      <td>1.000000</td>\n",
       "      <td>1.000000</td>\n",
       "      <td>1.000000</td>\n",
       "      <td>1.000000</td>\n",
       "      <td>1.000000</td>\n",
       "      <td>1.000000</td>\n",
       "    </tr>\n",
       "    <tr>\n",
       "      <th>1</th>\n",
       "      <td>1.003824</td>\n",
       "      <td>0.990109</td>\n",
       "      <td>0.985135</td>\n",
       "      <td>0.990735</td>\n",
       "      <td>1.004745</td>\n",
       "      <td>1.011518</td>\n",
       "      <td>1.004681</td>\n",
       "      <td>0.989792</td>\n",
       "      <td>0.995976</td>\n",
       "      <td>0.998927</td>\n",
       "      <td>...</td>\n",
       "      <td>1.003780</td>\n",
       "      <td>0.999044</td>\n",
       "      <td>0.996431</td>\n",
       "      <td>1.011581</td>\n",
       "      <td>0.997492</td>\n",
       "      <td>0.993295</td>\n",
       "      <td>0.996934</td>\n",
       "      <td>0.986978</td>\n",
       "      <td>0.996485</td>\n",
       "      <td>0.982367</td>\n",
       "    </tr>\n",
       "    <tr>\n",
       "      <th>2</th>\n",
       "      <td>1.001522</td>\n",
       "      <td>0.967405</td>\n",
       "      <td>0.966574</td>\n",
       "      <td>0.971729</td>\n",
       "      <td>1.018691</td>\n",
       "      <td>1.006630</td>\n",
       "      <td>1.003548</td>\n",
       "      <td>1.006820</td>\n",
       "      <td>0.996905</td>\n",
       "      <td>1.010220</td>\n",
       "      <td>...</td>\n",
       "      <td>1.006337</td>\n",
       "      <td>1.005062</td>\n",
       "      <td>1.007620</td>\n",
       "      <td>1.001453</td>\n",
       "      <td>1.012562</td>\n",
       "      <td>0.986181</td>\n",
       "      <td>1.011784</td>\n",
       "      <td>0.996492</td>\n",
       "      <td>0.997312</td>\n",
       "      <td>0.984455</td>\n",
       "    </tr>\n",
       "    <tr>\n",
       "      <th>3</th>\n",
       "      <td>0.997003</td>\n",
       "      <td>0.971806</td>\n",
       "      <td>0.960122</td>\n",
       "      <td>0.989264</td>\n",
       "      <td>1.011012</td>\n",
       "      <td>0.988441</td>\n",
       "      <td>1.020222</td>\n",
       "      <td>1.021618</td>\n",
       "      <td>0.997273</td>\n",
       "      <td>1.022541</td>\n",
       "      <td>...</td>\n",
       "      <td>1.010965</td>\n",
       "      <td>1.008327</td>\n",
       "      <td>1.007775</td>\n",
       "      <td>0.986320</td>\n",
       "      <td>1.018484</td>\n",
       "      <td>0.994957</td>\n",
       "      <td>1.016884</td>\n",
       "      <td>1.017290</td>\n",
       "      <td>0.987057</td>\n",
       "      <td>0.974736</td>\n",
       "    </tr>\n",
       "    <tr>\n",
       "      <th>4</th>\n",
       "      <td>0.990407</td>\n",
       "      <td>0.962368</td>\n",
       "      <td>0.964973</td>\n",
       "      <td>0.982106</td>\n",
       "      <td>1.012489</td>\n",
       "      <td>0.984928</td>\n",
       "      <td>1.031394</td>\n",
       "      <td>1.029727</td>\n",
       "      <td>1.009032</td>\n",
       "      <td>1.018316</td>\n",
       "      <td>...</td>\n",
       "      <td>1.018818</td>\n",
       "      <td>1.007873</td>\n",
       "      <td>1.005574</td>\n",
       "      <td>0.987341</td>\n",
       "      <td>1.028041</td>\n",
       "      <td>0.989001</td>\n",
       "      <td>1.012566</td>\n",
       "      <td>1.029454</td>\n",
       "      <td>0.971999</td>\n",
       "      <td>0.974726</td>\n",
       "    </tr>\n",
       "    <tr>\n",
       "      <th>...</th>\n",
       "      <td>...</td>\n",
       "      <td>...</td>\n",
       "      <td>...</td>\n",
       "      <td>...</td>\n",
       "      <td>...</td>\n",
       "      <td>...</td>\n",
       "      <td>...</td>\n",
       "      <td>...</td>\n",
       "      <td>...</td>\n",
       "      <td>...</td>\n",
       "      <td>...</td>\n",
       "      <td>...</td>\n",
       "      <td>...</td>\n",
       "      <td>...</td>\n",
       "      <td>...</td>\n",
       "      <td>...</td>\n",
       "      <td>...</td>\n",
       "      <td>...</td>\n",
       "      <td>...</td>\n",
       "      <td>...</td>\n",
       "      <td>...</td>\n",
       "    </tr>\n",
       "    <tr>\n",
       "      <th>7556</th>\n",
       "      <td>14.061876</td>\n",
       "      <td>5.852599</td>\n",
       "      <td>6.703386</td>\n",
       "      <td>12.813229</td>\n",
       "      <td>20.123175</td>\n",
       "      <td>15.200946</td>\n",
       "      <td>7.986345</td>\n",
       "      <td>15.086525</td>\n",
       "      <td>11.874330</td>\n",
       "      <td>15.029311</td>\n",
       "      <td>...</td>\n",
       "      <td>12.383025</td>\n",
       "      <td>21.378041</td>\n",
       "      <td>34.039355</td>\n",
       "      <td>10.171931</td>\n",
       "      <td>17.467998</td>\n",
       "      <td>4.888030</td>\n",
       "      <td>33.742853</td>\n",
       "      <td>10.800892</td>\n",
       "      <td>21.837347</td>\n",
       "      <td>7.740084</td>\n",
       "    </tr>\n",
       "    <tr>\n",
       "      <th>7557</th>\n",
       "      <td>14.072795</td>\n",
       "      <td>5.845189</td>\n",
       "      <td>6.694246</td>\n",
       "      <td>12.656675</td>\n",
       "      <td>20.136442</td>\n",
       "      <td>15.256346</td>\n",
       "      <td>8.028768</td>\n",
       "      <td>15.194820</td>\n",
       "      <td>11.934046</td>\n",
       "      <td>14.749179</td>\n",
       "      <td>...</td>\n",
       "      <td>12.440338</td>\n",
       "      <td>21.316648</td>\n",
       "      <td>34.072213</td>\n",
       "      <td>10.220647</td>\n",
       "      <td>17.616131</td>\n",
       "      <td>4.885122</td>\n",
       "      <td>33.628156</td>\n",
       "      <td>10.877014</td>\n",
       "      <td>21.886122</td>\n",
       "      <td>7.701856</td>\n",
       "    </tr>\n",
       "    <tr>\n",
       "      <th>7558</th>\n",
       "      <td>14.085278</td>\n",
       "      <td>5.852509</td>\n",
       "      <td>6.768114</td>\n",
       "      <td>12.697628</td>\n",
       "      <td>20.281384</td>\n",
       "      <td>15.271173</td>\n",
       "      <td>8.098434</td>\n",
       "      <td>15.161788</td>\n",
       "      <td>12.033971</td>\n",
       "      <td>14.540781</td>\n",
       "      <td>...</td>\n",
       "      <td>12.593168</td>\n",
       "      <td>21.446619</td>\n",
       "      <td>34.039861</td>\n",
       "      <td>10.313512</td>\n",
       "      <td>17.538575</td>\n",
       "      <td>4.861383</td>\n",
       "      <td>33.957636</td>\n",
       "      <td>10.865850</td>\n",
       "      <td>21.897135</td>\n",
       "      <td>7.696201</td>\n",
       "    </tr>\n",
       "    <tr>\n",
       "      <th>7559</th>\n",
       "      <td>14.385206</td>\n",
       "      <td>5.928843</td>\n",
       "      <td>6.813617</td>\n",
       "      <td>12.556491</td>\n",
       "      <td>20.066777</td>\n",
       "      <td>15.441921</td>\n",
       "      <td>8.140430</td>\n",
       "      <td>15.329335</td>\n",
       "      <td>12.266150</td>\n",
       "      <td>14.691537</td>\n",
       "      <td>...</td>\n",
       "      <td>12.780806</td>\n",
       "      <td>21.805139</td>\n",
       "      <td>34.177412</td>\n",
       "      <td>10.237294</td>\n",
       "      <td>17.443030</td>\n",
       "      <td>4.894615</td>\n",
       "      <td>34.528639</td>\n",
       "      <td>10.833533</td>\n",
       "      <td>22.132836</td>\n",
       "      <td>7.806718</td>\n",
       "    </tr>\n",
       "    <tr>\n",
       "      <th>7560</th>\n",
       "      <td>14.327749</td>\n",
       "      <td>5.909475</td>\n",
       "      <td>6.829905</td>\n",
       "      <td>12.544815</td>\n",
       "      <td>20.033665</td>\n",
       "      <td>15.789935</td>\n",
       "      <td>8.142439</td>\n",
       "      <td>15.343640</td>\n",
       "      <td>12.367334</td>\n",
       "      <td>14.944089</td>\n",
       "      <td>...</td>\n",
       "      <td>12.595857</td>\n",
       "      <td>21.688459</td>\n",
       "      <td>34.067534</td>\n",
       "      <td>10.113801</td>\n",
       "      <td>17.635900</td>\n",
       "      <td>4.852063</td>\n",
       "      <td>35.246085</td>\n",
       "      <td>10.891664</td>\n",
       "      <td>21.915049</td>\n",
       "      <td>7.738569</td>\n",
       "    </tr>\n",
       "  </tbody>\n",
       "</table>\n",
       "<p>7561 rows × 500 columns</p>\n",
       "</div>"
      ],
      "text/plain": [
       "            0         1         2          3          4          5    \\\n",
       "0      1.000000  1.000000  1.000000   1.000000   1.000000   1.000000   \n",
       "1      1.003824  0.990109  0.985135   0.990735   1.004745   1.011518   \n",
       "2      1.001522  0.967405  0.966574   0.971729   1.018691   1.006630   \n",
       "3      0.997003  0.971806  0.960122   0.989264   1.011012   0.988441   \n",
       "4      0.990407  0.962368  0.964973   0.982106   1.012489   0.984928   \n",
       "...         ...       ...       ...        ...        ...        ...   \n",
       "7556  14.061876  5.852599  6.703386  12.813229  20.123175  15.200946   \n",
       "7557  14.072795  5.845189  6.694246  12.656675  20.136442  15.256346   \n",
       "7558  14.085278  5.852509  6.768114  12.697628  20.281384  15.271173   \n",
       "7559  14.385206  5.928843  6.813617  12.556491  20.066777  15.441921   \n",
       "7560  14.327749  5.909475  6.829905  12.544815  20.033665  15.789935   \n",
       "\n",
       "           6          7          8          9    ...        490        491  \\\n",
       "0     1.000000   1.000000   1.000000   1.000000  ...   1.000000   1.000000   \n",
       "1     1.004681   0.989792   0.995976   0.998927  ...   1.003780   0.999044   \n",
       "2     1.003548   1.006820   0.996905   1.010220  ...   1.006337   1.005062   \n",
       "3     1.020222   1.021618   0.997273   1.022541  ...   1.010965   1.008327   \n",
       "4     1.031394   1.029727   1.009032   1.018316  ...   1.018818   1.007873   \n",
       "...        ...        ...        ...        ...  ...        ...        ...   \n",
       "7556  7.986345  15.086525  11.874330  15.029311  ...  12.383025  21.378041   \n",
       "7557  8.028768  15.194820  11.934046  14.749179  ...  12.440338  21.316648   \n",
       "7558  8.098434  15.161788  12.033971  14.540781  ...  12.593168  21.446619   \n",
       "7559  8.140430  15.329335  12.266150  14.691537  ...  12.780806  21.805139   \n",
       "7560  8.142439  15.343640  12.367334  14.944089  ...  12.595857  21.688459   \n",
       "\n",
       "            492        493        494       495        496        497  \\\n",
       "0      1.000000   1.000000   1.000000  1.000000   1.000000   1.000000   \n",
       "1      0.996431   1.011581   0.997492  0.993295   0.996934   0.986978   \n",
       "2      1.007620   1.001453   1.012562  0.986181   1.011784   0.996492   \n",
       "3      1.007775   0.986320   1.018484  0.994957   1.016884   1.017290   \n",
       "4      1.005574   0.987341   1.028041  0.989001   1.012566   1.029454   \n",
       "...         ...        ...        ...       ...        ...        ...   \n",
       "7556  34.039355  10.171931  17.467998  4.888030  33.742853  10.800892   \n",
       "7557  34.072213  10.220647  17.616131  4.885122  33.628156  10.877014   \n",
       "7558  34.039861  10.313512  17.538575  4.861383  33.957636  10.865850   \n",
       "7559  34.177412  10.237294  17.443030  4.894615  34.528639  10.833533   \n",
       "7560  34.067534  10.113801  17.635900  4.852063  35.246085  10.891664   \n",
       "\n",
       "            498       499  \n",
       "0      1.000000  1.000000  \n",
       "1      0.996485  0.982367  \n",
       "2      0.997312  0.984455  \n",
       "3      0.987057  0.974736  \n",
       "4      0.971999  0.974726  \n",
       "...         ...       ...  \n",
       "7556  21.837347  7.740084  \n",
       "7557  21.886122  7.701856  \n",
       "7558  21.897135  7.696201  \n",
       "7559  22.132836  7.806718  \n",
       "7560  21.915049  7.738569  \n",
       "\n",
       "[7561 rows x 500 columns]"
      ]
     },
     "execution_count": 44,
     "metadata": {},
     "output_type": "execute_result"
    }
   ],
   "source": [
    "# Run the Monte Carlo simulation to forecast 10 years cumulative returns\n",
    "MC_tenyears.calc_cumulative_return()\n"
   ]
  },
  {
   "cell_type": "code",
   "execution_count": 45,
   "metadata": {},
   "outputs": [
    {
     "data": {
      "image/png": "[encoded data removed]",
      "text/plain": [
       "<Figure size 640x480 with 1 Axes>"
      ]
     },
     "metadata": {},
     "output_type": "display_data"
    }
   ],
   "source": [
    "# Visualize the 10-year Monte Carlo simulation by creating an\n",
    "# overlay line plot\n",
    "MC_sim_line_plot = MC_tenyears.plot_simulation()\n"
   ]
  },
  {
   "cell_type": "code",
   "execution_count": 46,
   "metadata": {},
   "outputs": [
    {
     "data": {
      "image/png": "[encoded data removed]",
      "text/plain": [
       "<Figure size 640x480 with 1 Axes>"
      ]
     },
     "metadata": {},
     "output_type": "display_data"
    }
   ],
   "source": [
    "# Visualize the probability distribution of the 10-year Monte Carlo simulation \n",
    "# by plotting a histogram\n",
    "MC_sim_dist_plot = MC_tenyears.plot_distribution()\n"
   ]
  },
  {
   "cell_type": "code",
   "execution_count": 47,
   "metadata": {},
   "outputs": [
    {
     "name": "stdout",
     "output_type": "stream",
     "text": [
      "count           500.000000\n",
      "mean             18.630493\n",
      "std              19.617984\n",
      "min               1.082723\n",
      "25%               7.724051\n",
      "50%              13.578110\n",
      "75%              23.408685\n",
      "max             276.221194\n",
      "95% CI Lower      2.550511\n",
      "95% CI Upper     58.214703\n",
      "Name: 7560, dtype: float64\n"
     ]
    }
   ],
   "source": [
    "# Generate summary statistics from the 10-year Monte Carlo simulation results\n",
    "# Save the results as a variable\n",
    "MC_summary_statistics = MC_tenyears.summarize_cumulative_return()\n",
    "\n",
    "\n",
    "# Review the 10-year Monte Carlo summary statistics\n",
    "print(MC_summary_statistics)"
   ]
  },
  {
   "attachments": {},
   "cell_type": "markdown",
   "metadata": {},
   "source": [
    "### Answer the following questions:"
   ]
  },
  {
   "attachments": {},
   "cell_type": "markdown",
   "metadata": {},
   "source": [
    "#### Question: Using the current value of only the stock and bond portion of the member's portfolio and the summary statistics that you generated from the new Monte Carlo simulation, what are the lower and upper bounds for the expected value of the portfolio (with the new weights) with a 95% confidence interval?"
   ]
  },
  {
   "cell_type": "code",
   "execution_count": 48,
   "metadata": {},
   "outputs": [
    {
     "name": "stdout",
     "output_type": "stream",
     "text": [
      "The current value of the stocks and bonds is $65664.20\n"
     ]
    }
   ],
   "source": [
    "# Print the current balance of the stock and bond portion of the members portfolio\n",
    "print(f\"The current value of the stocks and bonds is ${total_stocks_bonds:0.2f}\")\n"
   ]
  },
  {
   "cell_type": "code",
   "execution_count": 49,
   "metadata": {},
   "outputs": [
    {
     "name": "stdout",
     "output_type": "stream",
     "text": [
      "With an itital investment of $12000 in the portfolio there is a 95% chance over the next 30 years will end in a range of$ 30606.13 and $ 698576.44.\n"
     ]
    }
   ],
   "source": [
    "# Use the lower and upper `95%` confidence intervals to calculate the range of the possible outcomes for the current stock/bond portfolio\n",
    "ci_lower_ten_cumulative_return = MC_summary_statistics[8] * 12000\n",
    "ci_upper_ten_cumulative_return = MC_summary_statistics[9] * 12000\n",
    "\n",
    "# Print the result of your calculations\n",
    "print(f\"With an itital investment of $12000 in the portfolio there is a 95% chance\"\n",
    "      f\" over the next 30 years will end in a range of\"\n",
    "      f\"${ci_lower_ten_cumulative_return: .2f} and ${ci_upper_ten_cumulative_return: .2f}.\")\n",
    "\n"
   ]
  },
  {
   "attachments": {},
   "cell_type": "markdown",
   "metadata": {},
   "source": [
    "#### Question: Will weighting the portfolio more heavily to stocks allow the credit union members to retire after only 10 years?"
   ]
  },
  {
   "cell_type": "raw",
   "metadata": {},
   "source": [
    "Weighing the porfolio more heavily in stocks could potentially allow the union member to retire in 10 years."
   ]
  },
  {
   "cell_type": "code",
   "execution_count": null,
   "metadata": {},
   "outputs": [],
   "source": []
  }
 ],
 "metadata": {
  "kernelspec": {
   "display_name": "Python 3",
   "language": "python",
   "name": "python3"
  },
  "language_info": {
   "codemirror_mode": {
    "name": "ipython",
    "version": 3
   },
   "file_extension": ".py",
   "mimetype": "text/x-python",
   "name": "python",
   "nbconvert_exporter": "python",
   "pygments_lexer": "ipython3",
   "version": "3.7.13"
  }
 },
 "nbformat": 4,
 "nbformat_minor": 4
}
